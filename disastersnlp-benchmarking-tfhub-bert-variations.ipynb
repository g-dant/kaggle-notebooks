{
 "cells": [
  {
   "cell_type": "markdown",
   "execution_count": null,
   "metadata": {},
   "source": [
    "# Tweets Disaster Predictions\n",
    "\n",
    "![DISASTERS!](https://encrypted-tbn0.gstatic.com/images?q=tbn%3AANd9GcSqsnrxzRLZFSSg9SNtj9SM2eAHoBJIvqCBWInda9hfuVMXXLu1)\n",
    "\n",
    "## A Basic Solution using BERT Deep Learning Google's Model\n",
    "\n",
    "Hello everbody. The aim of this notebook is not to only share my solution of the NLP Disaster Prediction problem. I also want to show all the results that I got when I tried to improve the model.\n",
    "\n",
    "You will se that all my tries were not better than the basic BERT and that's OK. We must remember that we are talking about Data **Science** and the \"Science\" part of the name is also composed by misleading results that can be reported to help in further studies :).\n",
    "\n",
    "So, this guide is presented in the form of a really basic tutorial, as I usually like to do. It's also an opportunity to present the basic concepts of NLP and Transfer Learning to people who want to learn or review these concepts. So, let's start. But, before...\n",
    "\n",
    "**An Important Acknowledgement to xhlulu:** [His notebook was really, REALLY useful for me](https://www.kaggle.com/xhlulu/disaster-nlp-keras-bert-using-tfhub) - In his notebook, the minimal BERT model is presented and he shows that it's possible to get an excellent result by using the original Google's Article BERT model, with the same parameters.\n",
    "\n",
    "So, this notebook is composed by $5$ steps:\n",
    "1. I show (again) the basic BERT model with a small guide to the concept of transfer learning and natural language processing, following the guideline proposed by xhulu.\n",
    "2. EDA (Exploratory Data Analysis) + Used Models\n",
    "3. Comparing the results of different models\n",
    "4. Conclusions"
   ]
  },
  {
   "cell_type": "markdown",
   "execution_count": null,
   "metadata": {},
   "source": [
    "# 1. Construction of a Basic BERT Model\n",
    "## With a Fast Transfer Learning Guide"
   ]
  },
  {
   "cell_type": "markdown",
   "execution_count": null,
   "metadata": {},
   "source": [
    "We start by taking the tokenization Google's Team script:"
   ]
  },
  {
   "cell_type": "code",
   "execution_count": 1,
   "metadata": {},
   "outputs": [
    {
     "name": "stdout",
     "output_type": "stream",
     "text": [
      "wget: /opt/conda/lib/libuuid.so.1: no version information available (required by wget)\r\n"
     ]
    }
   ],
   "source": [
    "# We will use the official tokenization script created by the Google team\n",
    "!wget --quiet https://raw.githubusercontent.com/tensorflow/models/master/official/nlp/bert/tokenization.py"
   ]
  },
  {
   "cell_type": "markdown",
   "execution_count": null,
   "metadata": {},
   "source": [
    "Importing the used libraries:"
   ]
  },
  {
   "cell_type": "code",
   "execution_count": 2,
   "metadata": {
    "_cell_guid": "b1076dfc-b9ad-4769-8c92-a6c4dae69d19",
    "_uuid": "8f2839f25d086af736a60e9eeb907d3b93b6e0e5"
   },
   "outputs": [],
   "source": [
    "import numpy as np\n",
    "import pandas as pd\n",
    "import tensorflow as tf\n",
    "\n",
    "import tokenization\n",
    "from plotnine import *\n",
    "from tensorflow.keras.layers import Dense, Input, Concatenate, BatchNormalization\n",
    "from tensorflow.keras.optimizers import Adam\n",
    "from tensorflow.keras.models import Model\n",
    "from tensorflow.keras.callbacks import EarlyStopping\n",
    "from collections import Counter\n",
    "\n",
    "from sklearn.model_selection import StratifiedShuffleSplit"
   ]
  },
  {
   "cell_type": "markdown",
   "execution_count": null,
   "metadata": {},
   "source": [
    "And importing from the TensorFlow Hub the BERT model in the form of a Keras Neural Network layer:"
   ]
  },
  {
   "cell_type": "code",
   "execution_count": 3,
   "metadata": {},
   "outputs": [
    {
     "name": "stdout",
     "output_type": "stream",
     "text": [
      "CPU times: user 1min 36s, sys: 12.3 s, total: 1min 48s\n",
      "Wall time: 1min 49s\n"
     ]
    }
   ],
   "source": [
    "%%time\n",
    "import tensorflow_hub as hub\n",
    "module_url = \"https://tfhub.dev/tensorflow/bert_en_uncased_L-24_H-1024_A-16/1\"\n",
    "bert_layer = hub.KerasLayer(module_url, trainable=True)"
   ]
  },
  {
   "cell_type": "markdown",
   "execution_count": null,
   "metadata": {},
   "source": [
    "Of course you can check the TensorFlow HUB website to find other models. You can, for example, take an alternative BERT version, the ALBERT, which is a smaller version of the model that is capable to also get nice results with a higher training speed.\n",
    "\n",
    "![TensorHub](https://miro.medium.com/max/1600/1*3DSjKsIW08f3LBfGiNeovA.png)\n",
    "\n",
    "We are working here with the concept of **Transfer Learning**: we take a pre-trained big deep learning neural network and add some layers to the original model (ocasionally we can also remove some layers of the pre-trained neural network) and with the adaptation of the learner we fit it to solve a new problem.\n",
    "\n",
    "It's common to use this technique in Image Classification tasks and Natural Language Processing problems.\n",
    "\n",
    "![TransferLearning](https://www.researchgate.net/profile/Joseph_Lemley/publication/316748306/figure/fig2/AS:491777640669185@1494260334992/Illustration-of-transfer-learning-concept-where-the-rst-layers-in-network-A-and-network-B.png)"
   ]
  },
  {
   "cell_type": "markdown",
   "execution_count": null,
   "metadata": {},
   "source": [
    "Let's start! I aways start my storytelling scripts by loading the dataframes and taking a fast look at the training set:"
   ]
  },
  {
   "cell_type": "code",
   "execution_count": 4,
   "metadata": {
    "_cell_guid": "79c7e3d0-c299-4dcb-8224-4455121ee9b0",
    "_uuid": "d629ff2d2480ee46fbb7e2d37f6b5fab8052498a"
   },
   "outputs": [
    {
     "data": {
      "text/html": [
       "<div>\n",
       "<style scoped>\n",
       "    .dataframe tbody tr th:only-of-type {\n",
       "        vertical-align: middle;\n",
       "    }\n",
       "\n",
       "    .dataframe tbody tr th {\n",
       "        vertical-align: top;\n",
       "    }\n",
       "\n",
       "    .dataframe thead th {\n",
       "        text-align: right;\n",
       "    }\n",
       "</style>\n",
       "<table border=\"1\" class=\"dataframe\">\n",
       "  <thead>\n",
       "    <tr style=\"text-align: right;\">\n",
       "      <th></th>\n",
       "      <th>id</th>\n",
       "      <th>keyword</th>\n",
       "      <th>location</th>\n",
       "      <th>text</th>\n",
       "      <th>target</th>\n",
       "    </tr>\n",
       "  </thead>\n",
       "  <tbody>\n",
       "    <tr>\n",
       "      <th>0</th>\n",
       "      <td>1</td>\n",
       "      <td>NaN</td>\n",
       "      <td>NaN</td>\n",
       "      <td>Our Deeds are the Reason of this #earthquake M...</td>\n",
       "      <td>1</td>\n",
       "    </tr>\n",
       "    <tr>\n",
       "      <th>1</th>\n",
       "      <td>4</td>\n",
       "      <td>NaN</td>\n",
       "      <td>NaN</td>\n",
       "      <td>Forest fire near La Ronge Sask. Canada</td>\n",
       "      <td>1</td>\n",
       "    </tr>\n",
       "    <tr>\n",
       "      <th>2</th>\n",
       "      <td>5</td>\n",
       "      <td>NaN</td>\n",
       "      <td>NaN</td>\n",
       "      <td>All residents asked to 'shelter in place' are ...</td>\n",
       "      <td>1</td>\n",
       "    </tr>\n",
       "    <tr>\n",
       "      <th>3</th>\n",
       "      <td>6</td>\n",
       "      <td>NaN</td>\n",
       "      <td>NaN</td>\n",
       "      <td>13,000 people receive #wildfires evacuation or...</td>\n",
       "      <td>1</td>\n",
       "    </tr>\n",
       "    <tr>\n",
       "      <th>4</th>\n",
       "      <td>7</td>\n",
       "      <td>NaN</td>\n",
       "      <td>NaN</td>\n",
       "      <td>Just got sent this photo from Ruby #Alaska as ...</td>\n",
       "      <td>1</td>\n",
       "    </tr>\n",
       "  </tbody>\n",
       "</table>\n",
       "</div>"
      ],
      "text/plain": [
       "   id keyword location                                               text  \\\n",
       "0   1     NaN      NaN  Our Deeds are the Reason of this #earthquake M...   \n",
       "1   4     NaN      NaN             Forest fire near La Ronge Sask. Canada   \n",
       "2   5     NaN      NaN  All residents asked to 'shelter in place' are ...   \n",
       "3   6     NaN      NaN  13,000 people receive #wildfires evacuation or...   \n",
       "4   7     NaN      NaN  Just got sent this photo from Ruby #Alaska as ...   \n",
       "\n",
       "   target  \n",
       "0       1  \n",
       "1       1  \n",
       "2       1  \n",
       "3       1  \n",
       "4       1  "
      ]
     },
     "execution_count": 4,
     "metadata": {},
     "output_type": "execute_result"
    }
   ],
   "source": [
    "input_dir = '/kaggle/input/nlp-getting-started/'\n",
    "output_dir = '/kaggle/working/'\n",
    "checkpoint_dir = '/kaggle/input/checkpoint-nlp-disaster/'\n",
    "word1vec_dir = '/kaggle/input/word2vec-google/GoogleNews-vectors-negative300.bin'\n",
    "\n",
    "df_model, df_submission = pd.read_csv(input_dir + 'train.csv'), pd.read_csv(input_dir + 'test.csv')\n",
    "df_model.head()"
   ]
  },
  {
   "cell_type": "markdown",
   "execution_count": null,
   "metadata": {},
   "source": [
    "Is our dataset balanced? The answer is YES! We have a distribution of nearly $40\\% - 60\\%$ of zeros and ones in our target column. So, the accuracy metric may be useful to our purposes:"
   ]
  },
  {
   "cell_type": "code",
   "execution_count": 5,
   "metadata": {},
   "outputs": [
    {
     "data": {
      "text/plain": [
       "0.4296597924602653"
      ]
     },
     "execution_count": 5,
     "metadata": {},
     "output_type": "execute_result"
    }
   ],
   "source": [
    "df_model['target'].mean()"
   ]
  },
  {
   "cell_type": "markdown",
   "execution_count": null,
   "metadata": {},
   "source": [
    "Loading the tokenizer, which will be used to transform our words in ID numbers that will be processed by the BERT model (we have to assure that all words are in the lower case form in our problem):"
   ]
  },
  {
   "cell_type": "code",
   "execution_count": 6,
   "metadata": {},
   "outputs": [],
   "source": [
    "vocab_file = bert_layer.resolved_object.vocab_file.asset_path.numpy()\n",
    "do_lower_case = bert_layer.resolved_object.do_lower_case.numpy()\n",
    "tokenizer = tokenization.FullTokenizer(vocab_file, do_lower_case)"
   ]
  },
  {
   "cell_type": "markdown",
   "execution_count": null,
   "metadata": {},
   "source": [
    "Writting a function to add columns of tokenized sentences. The tokenized sentences will be used as inputs of our deep learning neural network:"
   ]
  },
  {
   "cell_type": "code",
   "execution_count": 7,
   "metadata": {},
   "outputs": [
    {
     "data": {
      "text/html": [
       "<div>\n",
       "<style scoped>\n",
       "    .dataframe tbody tr th:only-of-type {\n",
       "        vertical-align: middle;\n",
       "    }\n",
       "\n",
       "    .dataframe tbody tr th {\n",
       "        vertical-align: top;\n",
       "    }\n",
       "\n",
       "    .dataframe thead th {\n",
       "        text-align: right;\n",
       "    }\n",
       "</style>\n",
       "<table border=\"1\" class=\"dataframe\">\n",
       "  <thead>\n",
       "    <tr style=\"text-align: right;\">\n",
       "      <th></th>\n",
       "      <th>id</th>\n",
       "      <th>keyword</th>\n",
       "      <th>location</th>\n",
       "      <th>text</th>\n",
       "      <th>target</th>\n",
       "      <th>str_tokens</th>\n",
       "      <th>id_tokens</th>\n",
       "      <th>n_tokens</th>\n",
       "    </tr>\n",
       "  </thead>\n",
       "  <tbody>\n",
       "    <tr>\n",
       "      <th>0</th>\n",
       "      <td>1</td>\n",
       "      <td>NaN</td>\n",
       "      <td>NaN</td>\n",
       "      <td>Our Deeds are the Reason of this #earthquake M...</td>\n",
       "      <td>1</td>\n",
       "      <td>[[CLS], our, deeds, are, the, reason, of, this...</td>\n",
       "      <td>[101, 2256, 15616, 2024, 1996, 3114, 1997, 202...</td>\n",
       "      <td>16</td>\n",
       "    </tr>\n",
       "    <tr>\n",
       "      <th>1</th>\n",
       "      <td>4</td>\n",
       "      <td>NaN</td>\n",
       "      <td>NaN</td>\n",
       "      <td>Forest fire near La Ronge Sask. Canada</td>\n",
       "      <td>1</td>\n",
       "      <td>[[CLS], forest, fire, near, la, ron, ##ge, sas...</td>\n",
       "      <td>[101, 3224, 2543, 2379, 2474, 6902, 3351, 2187...</td>\n",
       "      <td>12</td>\n",
       "    </tr>\n",
       "    <tr>\n",
       "      <th>2</th>\n",
       "      <td>5</td>\n",
       "      <td>NaN</td>\n",
       "      <td>NaN</td>\n",
       "      <td>All residents asked to 'shelter in place' are ...</td>\n",
       "      <td>1</td>\n",
       "      <td>[[CLS], all, residents, asked, to, ', shelter,...</td>\n",
       "      <td>[101, 2035, 3901, 2356, 2000, 1005, 7713, 1999...</td>\n",
       "      <td>27</td>\n",
       "    </tr>\n",
       "    <tr>\n",
       "      <th>3</th>\n",
       "      <td>6</td>\n",
       "      <td>NaN</td>\n",
       "      <td>NaN</td>\n",
       "      <td>13,000 people receive #wildfires evacuation or...</td>\n",
       "      <td>1</td>\n",
       "      <td>[[CLS], 13, ,, 000, people, receive, #, wild, ...</td>\n",
       "      <td>[101, 2410, 1010, 2199, 2111, 4374, 1001, 3748...</td>\n",
       "      <td>14</td>\n",
       "    </tr>\n",
       "    <tr>\n",
       "      <th>4</th>\n",
       "      <td>7</td>\n",
       "      <td>NaN</td>\n",
       "      <td>NaN</td>\n",
       "      <td>Just got sent this photo from Ruby #Alaska as ...</td>\n",
       "      <td>1</td>\n",
       "      <td>[[CLS], just, got, sent, this, photo, from, ru...</td>\n",
       "      <td>[101, 2074, 2288, 2741, 2023, 6302, 2013, 1009...</td>\n",
       "      <td>22</td>\n",
       "    </tr>\n",
       "  </tbody>\n",
       "</table>\n",
       "</div>"
      ],
      "text/plain": [
       "   id keyword location                                               text  \\\n",
       "0   1     NaN      NaN  Our Deeds are the Reason of this #earthquake M...   \n",
       "1   4     NaN      NaN             Forest fire near La Ronge Sask. Canada   \n",
       "2   5     NaN      NaN  All residents asked to 'shelter in place' are ...   \n",
       "3   6     NaN      NaN  13,000 people receive #wildfires evacuation or...   \n",
       "4   7     NaN      NaN  Just got sent this photo from Ruby #Alaska as ...   \n",
       "\n",
       "   target                                         str_tokens  \\\n",
       "0       1  [[CLS], our, deeds, are, the, reason, of, this...   \n",
       "1       1  [[CLS], forest, fire, near, la, ron, ##ge, sas...   \n",
       "2       1  [[CLS], all, residents, asked, to, ', shelter,...   \n",
       "3       1  [[CLS], 13, ,, 000, people, receive, #, wild, ...   \n",
       "4       1  [[CLS], just, got, sent, this, photo, from, ru...   \n",
       "\n",
       "                                           id_tokens  n_tokens  \n",
       "0  [101, 2256, 15616, 2024, 1996, 3114, 1997, 202...        16  \n",
       "1  [101, 3224, 2543, 2379, 2474, 6902, 3351, 2187...        12  \n",
       "2  [101, 2035, 3901, 2356, 2000, 1005, 7713, 1999...        27  \n",
       "3  [101, 2410, 1010, 2199, 2111, 4374, 1001, 3748...        14  \n",
       "4  [101, 2074, 2288, 2741, 2023, 6302, 2013, 1009...        22  "
      ]
     },
     "execution_count": 7,
     "metadata": {},
     "output_type": "execute_result"
    }
   ],
   "source": [
    "def tokenize_df(df_in):\n",
    "    \n",
    "    df_out = df_in.copy()\n",
    "    df_out['str_tokens'] = df_out['text'].apply(tokenizer.tokenize)\n",
    "    \n",
    "    apply_cls_sep = lambda X: ['[CLS]'] + X + ['[SEP]']\n",
    "    \n",
    "    df_out['str_tokens'] = df_out['str_tokens'].apply(apply_cls_sep)\n",
    "    df_out['id_tokens'] = df_out['str_tokens'].apply(tokenizer.convert_tokens_to_ids)\n",
    "    df_out['n_tokens'] = df_out['id_tokens'].apply(len)\n",
    "    \n",
    "    return df_out\n",
    "\n",
    "df_model = tokenize_df(df_model)\n",
    "df_submission = tokenize_df(df_submission)\n",
    "df_model.head()"
   ]
  },
  {
   "cell_type": "markdown",
   "execution_count": null,
   "metadata": {},
   "source": [
    "Here comes an important part: we know that our sentences will aways have less than $140$ words (which is the Twitter limit  before the last update). But some sentences will have less than $140$ words. For example: if I say \"deep learning is cool\", we will have just $4$ words.\n",
    "\n",
    "In this case, after the tokenization process, we will have something like: (0, 0, 0,..., 0, 123, 321, 13, 51). With $140 - 4$ zeros and $4$ number at the end representing the tokens of the words \"deep\", \"learning\", \"is\" and \"cool\", respectively. So, we will not update the neural network weights that are linked to non used word positions.\n",
    "\n",
    "It's the concept of **masking** and we will tell the neural network with an argument that is equal to $1$ in positions of used words and equal to zero in unused positions. It's much similar to the concept of IP Masking (if you are familiar with the area of networking).\n",
    "\n",
    "So, let's define a function to create those masks after zero left padding the the tokens:"
   ]
  },
  {
   "cell_type": "code",
   "execution_count": 8,
   "metadata": {},
   "outputs": [
    {
     "data": {
      "text/html": [
       "<div>\n",
       "<style scoped>\n",
       "    .dataframe tbody tr th:only-of-type {\n",
       "        vertical-align: middle;\n",
       "    }\n",
       "\n",
       "    .dataframe tbody tr th {\n",
       "        vertical-align: top;\n",
       "    }\n",
       "\n",
       "    .dataframe thead th {\n",
       "        text-align: right;\n",
       "    }\n",
       "</style>\n",
       "<table border=\"1\" class=\"dataframe\">\n",
       "  <thead>\n",
       "    <tr style=\"text-align: right;\">\n",
       "      <th></th>\n",
       "      <th>id</th>\n",
       "      <th>keyword</th>\n",
       "      <th>location</th>\n",
       "      <th>text</th>\n",
       "      <th>target</th>\n",
       "      <th>str_tokens</th>\n",
       "      <th>id_tokens</th>\n",
       "      <th>n_tokens</th>\n",
       "      <th>pad_size</th>\n",
       "      <th>masked_list</th>\n",
       "      <th>masked_id_token</th>\n",
       "    </tr>\n",
       "  </thead>\n",
       "  <tbody>\n",
       "    <tr>\n",
       "      <th>0</th>\n",
       "      <td>1</td>\n",
       "      <td>NaN</td>\n",
       "      <td>NaN</td>\n",
       "      <td>Our Deeds are the Reason of this #earthquake M...</td>\n",
       "      <td>1</td>\n",
       "      <td>[[CLS], our, deeds, are, the, reason, of, this...</td>\n",
       "      <td>[101, 2256, 15616, 2024, 1996, 3114, 1997, 202...</td>\n",
       "      <td>16</td>\n",
       "      <td>124</td>\n",
       "      <td>[0, 0, 0, 0, 0, 0, 0, 0, 0, 0, 0, 0, 0, 0, 0, ...</td>\n",
       "      <td>[0, 0, 0, 0, 0, 0, 0, 0, 0, 0, 0, 0, 0, 0, 0, ...</td>\n",
       "    </tr>\n",
       "    <tr>\n",
       "      <th>1</th>\n",
       "      <td>4</td>\n",
       "      <td>NaN</td>\n",
       "      <td>NaN</td>\n",
       "      <td>Forest fire near La Ronge Sask. Canada</td>\n",
       "      <td>1</td>\n",
       "      <td>[[CLS], forest, fire, near, la, ron, ##ge, sas...</td>\n",
       "      <td>[101, 3224, 2543, 2379, 2474, 6902, 3351, 2187...</td>\n",
       "      <td>12</td>\n",
       "      <td>128</td>\n",
       "      <td>[0, 0, 0, 0, 0, 0, 0, 0, 0, 0, 0, 0, 0, 0, 0, ...</td>\n",
       "      <td>[0, 0, 0, 0, 0, 0, 0, 0, 0, 0, 0, 0, 0, 0, 0, ...</td>\n",
       "    </tr>\n",
       "    <tr>\n",
       "      <th>2</th>\n",
       "      <td>5</td>\n",
       "      <td>NaN</td>\n",
       "      <td>NaN</td>\n",
       "      <td>All residents asked to 'shelter in place' are ...</td>\n",
       "      <td>1</td>\n",
       "      <td>[[CLS], all, residents, asked, to, ', shelter,...</td>\n",
       "      <td>[101, 2035, 3901, 2356, 2000, 1005, 7713, 1999...</td>\n",
       "      <td>27</td>\n",
       "      <td>113</td>\n",
       "      <td>[0, 0, 0, 0, 0, 0, 0, 0, 0, 0, 0, 0, 0, 0, 0, ...</td>\n",
       "      <td>[0, 0, 0, 0, 0, 0, 0, 0, 0, 0, 0, 0, 0, 0, 0, ...</td>\n",
       "    </tr>\n",
       "    <tr>\n",
       "      <th>3</th>\n",
       "      <td>6</td>\n",
       "      <td>NaN</td>\n",
       "      <td>NaN</td>\n",
       "      <td>13,000 people receive #wildfires evacuation or...</td>\n",
       "      <td>1</td>\n",
       "      <td>[[CLS], 13, ,, 000, people, receive, #, wild, ...</td>\n",
       "      <td>[101, 2410, 1010, 2199, 2111, 4374, 1001, 3748...</td>\n",
       "      <td>14</td>\n",
       "      <td>126</td>\n",
       "      <td>[0, 0, 0, 0, 0, 0, 0, 0, 0, 0, 0, 0, 0, 0, 0, ...</td>\n",
       "      <td>[0, 0, 0, 0, 0, 0, 0, 0, 0, 0, 0, 0, 0, 0, 0, ...</td>\n",
       "    </tr>\n",
       "    <tr>\n",
       "      <th>4</th>\n",
       "      <td>7</td>\n",
       "      <td>NaN</td>\n",
       "      <td>NaN</td>\n",
       "      <td>Just got sent this photo from Ruby #Alaska as ...</td>\n",
       "      <td>1</td>\n",
       "      <td>[[CLS], just, got, sent, this, photo, from, ru...</td>\n",
       "      <td>[101, 2074, 2288, 2741, 2023, 6302, 2013, 1009...</td>\n",
       "      <td>22</td>\n",
       "      <td>118</td>\n",
       "      <td>[0, 0, 0, 0, 0, 0, 0, 0, 0, 0, 0, 0, 0, 0, 0, ...</td>\n",
       "      <td>[0, 0, 0, 0, 0, 0, 0, 0, 0, 0, 0, 0, 0, 0, 0, ...</td>\n",
       "    </tr>\n",
       "  </tbody>\n",
       "</table>\n",
       "</div>"
      ],
      "text/plain": [
       "   id keyword location                                               text  \\\n",
       "0   1     NaN      NaN  Our Deeds are the Reason of this #earthquake M...   \n",
       "1   4     NaN      NaN             Forest fire near La Ronge Sask. Canada   \n",
       "2   5     NaN      NaN  All residents asked to 'shelter in place' are ...   \n",
       "3   6     NaN      NaN  13,000 people receive #wildfires evacuation or...   \n",
       "4   7     NaN      NaN  Just got sent this photo from Ruby #Alaska as ...   \n",
       "\n",
       "   target                                         str_tokens  \\\n",
       "0       1  [[CLS], our, deeds, are, the, reason, of, this...   \n",
       "1       1  [[CLS], forest, fire, near, la, ron, ##ge, sas...   \n",
       "2       1  [[CLS], all, residents, asked, to, ', shelter,...   \n",
       "3       1  [[CLS], 13, ,, 000, people, receive, #, wild, ...   \n",
       "4       1  [[CLS], just, got, sent, this, photo, from, ru...   \n",
       "\n",
       "                                           id_tokens  n_tokens  pad_size  \\\n",
       "0  [101, 2256, 15616, 2024, 1996, 3114, 1997, 202...        16       124   \n",
       "1  [101, 3224, 2543, 2379, 2474, 6902, 3351, 2187...        12       128   \n",
       "2  [101, 2035, 3901, 2356, 2000, 1005, 7713, 1999...        27       113   \n",
       "3  [101, 2410, 1010, 2199, 2111, 4374, 1001, 3748...        14       126   \n",
       "4  [101, 2074, 2288, 2741, 2023, 6302, 2013, 1009...        22       118   \n",
       "\n",
       "                                         masked_list  \\\n",
       "0  [0, 0, 0, 0, 0, 0, 0, 0, 0, 0, 0, 0, 0, 0, 0, ...   \n",
       "1  [0, 0, 0, 0, 0, 0, 0, 0, 0, 0, 0, 0, 0, 0, 0, ...   \n",
       "2  [0, 0, 0, 0, 0, 0, 0, 0, 0, 0, 0, 0, 0, 0, 0, ...   \n",
       "3  [0, 0, 0, 0, 0, 0, 0, 0, 0, 0, 0, 0, 0, 0, 0, ...   \n",
       "4  [0, 0, 0, 0, 0, 0, 0, 0, 0, 0, 0, 0, 0, 0, 0, ...   \n",
       "\n",
       "                                     masked_id_token  \n",
       "0  [0, 0, 0, 0, 0, 0, 0, 0, 0, 0, 0, 0, 0, 0, 0, ...  \n",
       "1  [0, 0, 0, 0, 0, 0, 0, 0, 0, 0, 0, 0, 0, 0, 0, ...  \n",
       "2  [0, 0, 0, 0, 0, 0, 0, 0, 0, 0, 0, 0, 0, 0, 0, ...  \n",
       "3  [0, 0, 0, 0, 0, 0, 0, 0, 0, 0, 0, 0, 0, 0, 0, ...  \n",
       "4  [0, 0, 0, 0, 0, 0, 0, 0, 0, 0, 0, 0, 0, 0, 0, ...  "
      ]
     },
     "execution_count": 8,
     "metadata": {},
     "output_type": "execute_result"
    }
   ],
   "source": [
    "def define_mask(df_in, window_size=140):\n",
    "    df_out = df_in.copy()\n",
    "    df_out['pad_size'] = window_size - df_out['n_tokens']\n",
    "    \n",
    "    masked_list, masked_id_token = list(), list()\n",
    "    for i in range(0, df_out.shape[0]):\n",
    "        masked_list.append([0] * df_out['pad_size'][i] + [1] * df_out['n_tokens'][i])\n",
    "        masked_id_token.append([0] * df_out['pad_size'][i] + df_out['id_tokens'][i])\n",
    "        \n",
    "    df_out['masked_list'], df_out['masked_id_token'] = masked_list, masked_id_token\n",
    "    return df_out\n",
    "    \n",
    "df_model = define_mask(df_model)\n",
    "df_submission = define_mask(df_submission)\n",
    "df_model.head()"
   ]
  },
  {
   "cell_type": "markdown",
   "execution_count": null,
   "metadata": {},
   "source": [
    "And we are ready to define our basic BERT model:"
   ]
  },
  {
   "cell_type": "code",
   "execution_count": 9,
   "metadata": {},
   "outputs": [],
   "source": [
    "def build_minimal_model(bert_layer, max_len=140):\n",
    "    \n",
    "    input_word_ids = Input(shape=(max_len,), dtype=tf.int32, name='input_word_ids')\n",
    "    input_mask = Input(shape=(max_len,), dtype=tf.int32, name='input_mask')\n",
    "    segment_ids = Input(shape=(max_len,), dtype=tf.int32, name='segment_ids')\n",
    "\n",
    "    _, sequence_output = bert_layer([input_word_ids, input_mask, segment_ids])\n",
    "    clf_output = sequence_output[:, 0, :]\n",
    "    out = Dense(1, activation='sigmoid')(clf_output)\n",
    "    \n",
    "    model = Model(inputs=[input_word_ids, input_mask, segment_ids], outputs=out)\n",
    "    model.compile(Adam(lr=2e-6), loss='binary_crossentropy', metrics=['accuracy'])\n",
    "    \n",
    "    return model"
   ]
  },
  {
   "cell_type": "markdown",
   "execution_count": null,
   "metadata": {},
   "source": [
    "We can check the structure of our Neural Network with the summary function:"
   ]
  },
  {
   "cell_type": "code",
   "execution_count": 10,
   "metadata": {},
   "outputs": [
    {
     "name": "stdout",
     "output_type": "stream",
     "text": [
      "Model: \"model\"\n",
      "__________________________________________________________________________________________________\n",
      "Layer (type)                    Output Shape         Param #     Connected to                     \n",
      "==================================================================================================\n",
      "input_word_ids (InputLayer)     [(None, 140)]        0                                            \n",
      "__________________________________________________________________________________________________\n",
      "input_mask (InputLayer)         [(None, 140)]        0                                            \n",
      "__________________________________________________________________________________________________\n",
      "segment_ids (InputLayer)        [(None, 140)]        0                                            \n",
      "__________________________________________________________________________________________________\n",
      "keras_layer (KerasLayer)        [(None, 1024), (None 335141889   input_word_ids[0][0]             \n",
      "                                                                 input_mask[0][0]                 \n",
      "                                                                 segment_ids[0][0]                \n",
      "__________________________________________________________________________________________________\n",
      "tf_op_layer_strided_slice (Tens [(None, 1024)]       0           keras_layer[0][1]                \n",
      "__________________________________________________________________________________________________\n",
      "dense (Dense)                   (None, 1)            1025        tf_op_layer_strided_slice[0][0]  \n",
      "==================================================================================================\n",
      "Total params: 335,142,914\n",
      "Trainable params: 335,142,913\n",
      "Non-trainable params: 1\n",
      "__________________________________________________________________________________________________\n"
     ]
    }
   ],
   "source": [
    "model = build_minimal_model(bert_layer, max_len=140)\n",
    "model.summary()"
   ]
  },
  {
   "cell_type": "markdown",
   "execution_count": null,
   "metadata": {},
   "source": [
    "And, before start fitting our model, let's split the training and testing set with a stratified shuffle and split. When I say \"stratified\" I mean that the percentual of zeroes and ones in the training and validation sets will be nearly the same so we work with balanced samples:\n",
    "\n",
    "![Stratification](https://doingsurveyresearch.files.wordpress.com/2013/01/strata-sample.gif)"
   ]
  },
  {
   "cell_type": "code",
   "execution_count": 11,
   "metadata": {},
   "outputs": [],
   "source": [
    "sss = StratifiedShuffleSplit(n_splits=1, test_size=0.8, random_state=42)\n",
    "for train_index, test_index in sss.split(df_model, df_model['target']):\n",
    "    df_model = df_model.iloc[test_index.tolist() + train_index.tolist(), :]"
   ]
  },
  {
   "cell_type": "markdown",
   "execution_count": null,
   "metadata": {},
   "source": [
    "Here is a function to extract the model's inputs:"
   ]
  },
  {
   "cell_type": "code",
   "execution_count": 12,
   "metadata": {},
   "outputs": [],
   "source": [
    "def extract_inputs(df_in, max_len=140):\n",
    "    return np.array(df_in['masked_id_token'].tolist()),\\\n",
    "           np.array(df_in['masked_list'].tolist()),\\\n",
    "           np.array([[0] * max_len for i in range(0, df_in.shape[0])])\n",
    "\n",
    "train_input = extract_inputs(df_model)\n",
    "test_input = extract_inputs(df_submission)\n",
    "\n",
    "train_labels = df_model['target']"
   ]
  },
  {
   "cell_type": "markdown",
   "execution_count": null,
   "metadata": {},
   "source": [
    "I'm working with a flag that says whether or not I will run the models. If it's false, then we will load the obtained results of the last execution (since we are working with deep learning here, it's really easy to overflow the GPU memory)"
   ]
  },
  {
   "cell_type": "code",
   "execution_count": 13,
   "metadata": {},
   "outputs": [],
   "source": [
    "flag_fit_models = False"
   ]
  },
  {
   "cell_type": "markdown",
   "execution_count": null,
   "metadata": {},
   "source": [
    "If the flag is false, we load the last results, otherwise, we start the fitting process:"
   ]
  },
  {
   "cell_type": "code",
   "execution_count": 14,
   "metadata": {},
   "outputs": [],
   "source": [
    "if flag_fit_models:\n",
    "    train_history_minimal_model = model.fit(\n",
    "        train_input, train_labels,\n",
    "        validation_split=0.2,\n",
    "        epochs=3,\n",
    "        batch_size=16,\n",
    "        callbacks=[EarlyStopping(restore_best_weights=True, patience=1)])\n",
    "else:\n",
    "    train_history_minimal_model = pd.read_csv(checkpoint_dir + \n",
    "                                              'train_history_minimal_model_no_label.csv')"
   ]
  },
  {
   "cell_type": "markdown",
   "execution_count": null,
   "metadata": {},
   "source": [
    "If the flag is True, we output the new results:"
   ]
  },
  {
   "cell_type": "code",
   "execution_count": 15,
   "metadata": {},
   "outputs": [],
   "source": [
    "if flag_fit_models:\n",
    "    pd.DataFrame.from_dict(train_history_minimal_model.history).\\\n",
    "        to_csv(output_dir + 'train_history_minimal_model_no_label.csv', index=False)\n",
    "\n",
    "    pd.DataFrame({\n",
    "        'id': df_submission['id'],\n",
    "        'target': [X[0] for X in list(model.predict(test_input))]\n",
    "    }).to_csv(output_dir + 'predictions_model_no_sentence_labels.csv', index=False)\n",
    "else:\n",
    "    df_out = pd.read_csv(checkpoint_dir + 'predictions_model_no_sentence_labels.csv').loc[:, ['id', 'target']]\n",
    "    df_out['target'] = df_out['target'].apply(lambda X: 1 if X >= 0.5 else 0)\n",
    "    df_out.to_csv(output_dir + 'predictions_model_no_sentence_labels.csv', index=False)"
   ]
  },
  {
   "cell_type": "markdown",
   "execution_count": null,
   "metadata": {},
   "source": [
    "The model results will be explored ahead in the models comparison section (**Section 5**). Before that, let's start our exploratory data analysis that lead me to alternative models."
   ]
  },
  {
   "cell_type": "markdown",
   "execution_count": null,
   "metadata": {},
   "source": [
    "# 2. Exploratory Data Analysis (EDA) + Used Models"
   ]
  },
  {
   "cell_type": "markdown",
   "execution_count": null,
   "metadata": {},
   "source": [
    "We will create a dataframe with the parameters that we want to plot. I will follow an R \"tidy\" format and I will use the ggplot library to show the results:"
   ]
  },
  {
   "cell_type": "code",
   "execution_count": 16,
   "metadata": {},
   "outputs": [
    {
     "data": {
      "text/html": [
       "<div>\n",
       "<style scoped>\n",
       "    .dataframe tbody tr th:only-of-type {\n",
       "        vertical-align: middle;\n",
       "    }\n",
       "\n",
       "    .dataframe tbody tr th {\n",
       "        vertical-align: top;\n",
       "    }\n",
       "\n",
       "    .dataframe thead th {\n",
       "        text-align: right;\n",
       "    }\n",
       "</style>\n",
       "<table border=\"1\" class=\"dataframe\">\n",
       "  <thead>\n",
       "    <tr style=\"text-align: right;\">\n",
       "      <th></th>\n",
       "      <th>all_texts</th>\n",
       "      <th>target</th>\n",
       "    </tr>\n",
       "  </thead>\n",
       "  <tbody>\n",
       "    <tr>\n",
       "      <th>3251</th>\n",
       "      <td>[he, came, to, a, land, which, was, engulfed, ...</td>\n",
       "      <td>0</td>\n",
       "    </tr>\n",
       "    <tr>\n",
       "      <th>6015</th>\n",
       "      <td>[*, screams, *]</td>\n",
       "      <td>0</td>\n",
       "    </tr>\n",
       "    <tr>\n",
       "      <th>4230</th>\n",
       "      <td>[meg, issues, hazardous, weather, outlook, (hw...</td>\n",
       "      <td>1</td>\n",
       "    </tr>\n",
       "    <tr>\n",
       "      <th>512</th>\n",
       "      <td>[christian, attacked, by, muslims, at, the, te...</td>\n",
       "      <td>1</td>\n",
       "    </tr>\n",
       "    <tr>\n",
       "      <th>1382</th>\n",
       "      <td>[bush, fires, are, scary....even, scarier, whe...</td>\n",
       "      <td>1</td>\n",
       "    </tr>\n",
       "  </tbody>\n",
       "</table>\n",
       "</div>"
      ],
      "text/plain": [
       "                                              all_texts  target\n",
       "3251  [he, came, to, a, land, which, was, engulfed, ...       0\n",
       "6015                                    [*, screams, *]       0\n",
       "4230  [meg, issues, hazardous, weather, outlook, (hw...       1\n",
       "512   [christian, attacked, by, muslims, at, the, te...       1\n",
       "1382  [bush, fires, are, scary....even, scarier, whe...       1"
      ]
     },
     "execution_count": 16,
     "metadata": {},
     "output_type": "execute_result"
    }
   ],
   "source": [
    "df_eda = pd.DataFrame(dict(all_texts=df_model['text'].str.lower().str.split(), target=df_model['target'].tolist()))\n",
    "df_eda.head()"
   ]
  },
  {
   "cell_type": "markdown",
   "execution_count": null,
   "metadata": {},
   "source": [
    "The first auxiliary features that called me attention were: the number of hashtags in the sentence, the number of mentions (at's), the number of exclamation characters and the number of interrogations. These characters are eliminated from the text during the tokenization procedure and that's why I thought that, somehow, it would be possible to improve the model by adding these features to the input of the last Keras layer of the BERT model.\n",
    "\n",
    "It makes sense since, in a certain way, these values are a proxy of the sentiment of the person who wrote the tweet:"
   ]
  },
  {
   "cell_type": "code",
   "execution_count": 17,
   "metadata": {},
   "outputs": [
    {
     "data": {
      "text/html": [
       "<div>\n",
       "<style scoped>\n",
       "    .dataframe tbody tr th:only-of-type {\n",
       "        vertical-align: middle;\n",
       "    }\n",
       "\n",
       "    .dataframe tbody tr th {\n",
       "        vertical-align: top;\n",
       "    }\n",
       "\n",
       "    .dataframe thead th {\n",
       "        text-align: right;\n",
       "    }\n",
       "</style>\n",
       "<table border=\"1\" class=\"dataframe\">\n",
       "  <thead>\n",
       "    <tr style=\"text-align: right;\">\n",
       "      <th></th>\n",
       "      <th>all_texts</th>\n",
       "      <th>target</th>\n",
       "      <th>hashtag_count</th>\n",
       "      <th>at_count</th>\n",
       "      <th>exclamation_count</th>\n",
       "      <th>interrogation_count</th>\n",
       "    </tr>\n",
       "  </thead>\n",
       "  <tbody>\n",
       "    <tr>\n",
       "      <th>3251</th>\n",
       "      <td>[he, came, to, a, land, which, was, engulfed, ...</td>\n",
       "      <td>0</td>\n",
       "      <td>2.0</td>\n",
       "      <td>0.0</td>\n",
       "      <td>0.0</td>\n",
       "      <td>0.0</td>\n",
       "    </tr>\n",
       "    <tr>\n",
       "      <th>6015</th>\n",
       "      <td>[*, screams, *]</td>\n",
       "      <td>0</td>\n",
       "      <td>0.0</td>\n",
       "      <td>0.0</td>\n",
       "      <td>0.0</td>\n",
       "      <td>0.0</td>\n",
       "    </tr>\n",
       "    <tr>\n",
       "      <th>4230</th>\n",
       "      <td>[meg, issues, hazardous, weather, outlook, (hw...</td>\n",
       "      <td>1</td>\n",
       "      <td>1.0</td>\n",
       "      <td>0.0</td>\n",
       "      <td>0.0</td>\n",
       "      <td>0.0</td>\n",
       "    </tr>\n",
       "    <tr>\n",
       "      <th>512</th>\n",
       "      <td>[christian, attacked, by, muslims, at, the, te...</td>\n",
       "      <td>1</td>\n",
       "      <td>0.0</td>\n",
       "      <td>0.0</td>\n",
       "      <td>0.0</td>\n",
       "      <td>0.0</td>\n",
       "    </tr>\n",
       "    <tr>\n",
       "      <th>1382</th>\n",
       "      <td>[bush, fires, are, scary....even, scarier, whe...</td>\n",
       "      <td>1</td>\n",
       "      <td>0.0</td>\n",
       "      <td>0.0</td>\n",
       "      <td>0.0</td>\n",
       "      <td>0.0</td>\n",
       "    </tr>\n",
       "  </tbody>\n",
       "</table>\n",
       "</div>"
      ],
      "text/plain": [
       "                                              all_texts  target  \\\n",
       "3251  [he, came, to, a, land, which, was, engulfed, ...       0   \n",
       "6015                                    [*, screams, *]       0   \n",
       "4230  [meg, issues, hazardous, weather, outlook, (hw...       1   \n",
       "512   [christian, attacked, by, muslims, at, the, te...       1   \n",
       "1382  [bush, fires, are, scary....even, scarier, whe...       1   \n",
       "\n",
       "      hashtag_count  at_count  exclamation_count  interrogation_count  \n",
       "3251            2.0       0.0                0.0                  0.0  \n",
       "6015            0.0       0.0                0.0                  0.0  \n",
       "4230            1.0       0.0                0.0                  0.0  \n",
       "512             0.0       0.0                0.0                  0.0  \n",
       "1382            0.0       0.0                0.0                  0.0  "
      ]
     },
     "execution_count": 17,
     "metadata": {},
     "output_type": "execute_result"
    }
   ],
   "source": [
    "df_eda['hashtag_count'] = df_eda['all_texts'].apply(lambda X: sum([1. for Y in X if Y[0] == '#']))\n",
    "df_eda['at_count'] = df_eda['all_texts'].apply(lambda X: sum([1. for Y in X if Y[0] == '@']))\n",
    "df_eda['exclamation_count'] = df_eda['all_texts'].apply(lambda X: sum([1. for Y in ''.join(X) if Y == '!']))\n",
    "df_eda['interrogation_count'] = df_eda['all_texts'].apply(lambda X: sum([1. for Y in ''.join(X) if Y == '?']))\n",
    "\n",
    "df_eda.head()"
   ]
  },
  {
   "cell_type": "markdown",
   "execution_count": null,
   "metadata": {},
   "source": [
    "We will also check whether or not each of these counts are bigger than $0$:"
   ]
  },
  {
   "cell_type": "code",
   "execution_count": 18,
   "metadata": {},
   "outputs": [
    {
     "data": {
      "text/html": [
       "<div>\n",
       "<style scoped>\n",
       "    .dataframe tbody tr th:only-of-type {\n",
       "        vertical-align: middle;\n",
       "    }\n",
       "\n",
       "    .dataframe tbody tr th {\n",
       "        vertical-align: top;\n",
       "    }\n",
       "\n",
       "    .dataframe thead th {\n",
       "        text-align: right;\n",
       "    }\n",
       "</style>\n",
       "<table border=\"1\" class=\"dataframe\">\n",
       "  <thead>\n",
       "    <tr style=\"text-align: right;\">\n",
       "      <th></th>\n",
       "      <th>target</th>\n",
       "      <th>variable</th>\n",
       "      <th>value</th>\n",
       "      <th>bigger_than_0</th>\n",
       "    </tr>\n",
       "  </thead>\n",
       "  <tbody>\n",
       "    <tr>\n",
       "      <th>0</th>\n",
       "      <td>0</td>\n",
       "      <td>hashtag_count</td>\n",
       "      <td>2.0</td>\n",
       "      <td>1.0</td>\n",
       "    </tr>\n",
       "    <tr>\n",
       "      <th>1</th>\n",
       "      <td>0</td>\n",
       "      <td>hashtag_count</td>\n",
       "      <td>0.0</td>\n",
       "      <td>0.0</td>\n",
       "    </tr>\n",
       "    <tr>\n",
       "      <th>2</th>\n",
       "      <td>1</td>\n",
       "      <td>hashtag_count</td>\n",
       "      <td>1.0</td>\n",
       "      <td>1.0</td>\n",
       "    </tr>\n",
       "    <tr>\n",
       "      <th>3</th>\n",
       "      <td>1</td>\n",
       "      <td>hashtag_count</td>\n",
       "      <td>0.0</td>\n",
       "      <td>0.0</td>\n",
       "    </tr>\n",
       "    <tr>\n",
       "      <th>4</th>\n",
       "      <td>1</td>\n",
       "      <td>hashtag_count</td>\n",
       "      <td>0.0</td>\n",
       "      <td>0.0</td>\n",
       "    </tr>\n",
       "  </tbody>\n",
       "</table>\n",
       "</div>"
      ],
      "text/plain": [
       "   target       variable  value  bigger_than_0\n",
       "0       0  hashtag_count    2.0            1.0\n",
       "1       0  hashtag_count    0.0            0.0\n",
       "2       1  hashtag_count    1.0            1.0\n",
       "3       1  hashtag_count    0.0            0.0\n",
       "4       1  hashtag_count    0.0            0.0"
      ]
     },
     "execution_count": 18,
     "metadata": {},
     "output_type": "execute_result"
    }
   ],
   "source": [
    "df_melt_eda = pd.melt(df_eda, id_vars=['target'], value_vars=['hashtag_count', 'at_count', 'exclamation_count'])\n",
    "df_melt_eda['bigger_than_0'] = df_melt_eda['value'].apply(lambda X: 1. if X > 0 else 0)\n",
    "df_melt_eda.head()"
   ]
  },
  {
   "cell_type": "markdown",
   "execution_count": null,
   "metadata": {},
   "source": [
    "Plotting the number of special characters for each target value:"
   ]
  },
  {
   "cell_type": "code",
   "execution_count": 19,
   "metadata": {},
   "outputs": [
    {
     "name": "stderr",
     "output_type": "stream",
     "text": [
      "/opt/conda/lib/python3.6/site-packages/plotnine/coords/coord_cartesian.py:31: MatplotlibDeprecationWarning: The Bunch class was deprecated in Matplotlib 3.0 and will be removed in 3.2. Use types.SimpleNamespace instead.\n",
      "  self.limits = Bunch(xlim=xlim, ylim=ylim)\n",
      "/opt/conda/lib/python3.6/copy.py:274: MatplotlibDeprecationWarning: The Bunch class was deprecated in Matplotlib 3.0 and will be removed in 3.2. Use types.SimpleNamespace instead.\n",
      "  y = func(*args)\n",
      "/opt/conda/lib/python3.6/site-packages/plotnine/facets/facet.py:151: MatplotlibDeprecationWarning: The Bunch class was deprecated in Matplotlib 3.0 and will be removed in 3.2. Use types.SimpleNamespace instead.\n",
      "  scales = Bunch()\n",
      "/opt/conda/lib/python3.6/site-packages/plotnine/facets/layout.py:147: MatplotlibDeprecationWarning: The Bunch class was deprecated in Matplotlib 3.0 and will be removed in 3.2. Use types.SimpleNamespace instead.\n",
      "  return Bunch(x=xsc, y=ysc)\n",
      "/opt/conda/lib/python3.6/site-packages/plotnine/facets/facet.py:500: MatplotlibDeprecationWarning: The Bunch class was deprecated in Matplotlib 3.0 and will be removed in 3.2. Use types.SimpleNamespace instead.\n",
      "  box_height=box_height)\n",
      "/opt/conda/lib/python3.6/site-packages/plotnine/guides/guide_legend.py:179: MatplotlibDeprecationWarning: The Bunch class was deprecated in Matplotlib 3.0 and will be removed in 3.2. Use types.SimpleNamespace instead.\n",
      "  self.glayers.append(Bunch(geom=geom, data=data, layer=l))\n"
     ]
    },
    {
     "data": {
      "image/png": "[encoded data removed]",
      "text/plain": [
       "<Figure size 640x480 with 6 Axes>"
      ]
     },
     "metadata": {},
     "output_type": "display_data"
    },
    {
     "data": {
      "text/plain": [
       "<ggplot: (-9223363303322338556)>"
      ]
     },
     "execution_count": 19,
     "metadata": {},
     "output_type": "execute_result"
    }
   ],
   "source": [
    "ggplot(aes(x='value', fill='variable'), data=df_melt_eda) + geom_bar() + facet_grid('target~variable')"
   ]
  },
  {
   "cell_type": "markdown",
   "execution_count": null,
   "metadata": {},
   "source": [
    "It doesn't seem to let us assure that there is a relationship among these characters and the target value. Let's try a different approach: let's see the proportions of tweets with no spetial characters and with at least $1$ special character:"
   ]
  },
  {
   "cell_type": "code",
   "execution_count": 20,
   "metadata": {},
   "outputs": [
    {
     "data": {
      "text/html": [
       "<div>\n",
       "<style scoped>\n",
       "    .dataframe tbody tr th:only-of-type {\n",
       "        vertical-align: middle;\n",
       "    }\n",
       "\n",
       "    .dataframe tbody tr th {\n",
       "        vertical-align: top;\n",
       "    }\n",
       "\n",
       "    .dataframe thead th {\n",
       "        text-align: right;\n",
       "    }\n",
       "</style>\n",
       "<table border=\"1\" class=\"dataframe\">\n",
       "  <thead>\n",
       "    <tr style=\"text-align: right;\">\n",
       "      <th></th>\n",
       "      <th>target</th>\n",
       "      <th>variable</th>\n",
       "      <th>mean</th>\n",
       "      <th>count</th>\n",
       "      <th>std</th>\n",
       "    </tr>\n",
       "  </thead>\n",
       "  <tbody>\n",
       "    <tr>\n",
       "      <th>0</th>\n",
       "      <td>Fake...</td>\n",
       "      <td>at_count</td>\n",
       "      <td>0.306541</td>\n",
       "      <td>4342</td>\n",
       "      <td>0.006997</td>\n",
       "    </tr>\n",
       "    <tr>\n",
       "      <th>1</th>\n",
       "      <td>Fake...</td>\n",
       "      <td>exclamation_count</td>\n",
       "      <td>0.120451</td>\n",
       "      <td>4342</td>\n",
       "      <td>0.004940</td>\n",
       "    </tr>\n",
       "    <tr>\n",
       "      <th>2</th>\n",
       "      <td>Fake...</td>\n",
       "      <td>hashtag_count</td>\n",
       "      <td>0.201981</td>\n",
       "      <td>4342</td>\n",
       "      <td>0.006093</td>\n",
       "    </tr>\n",
       "    <tr>\n",
       "      <th>3</th>\n",
       "      <td>Disaster!</td>\n",
       "      <td>at_count</td>\n",
       "      <td>0.199939</td>\n",
       "      <td>3271</td>\n",
       "      <td>0.006993</td>\n",
       "    </tr>\n",
       "    <tr>\n",
       "      <th>4</th>\n",
       "      <td>Disaster!</td>\n",
       "      <td>exclamation_count</td>\n",
       "      <td>0.059921</td>\n",
       "      <td>3271</td>\n",
       "      <td>0.004150</td>\n",
       "    </tr>\n",
       "    <tr>\n",
       "      <th>5</th>\n",
       "      <td>Disaster!</td>\n",
       "      <td>hashtag_count</td>\n",
       "      <td>0.261999</td>\n",
       "      <td>3271</td>\n",
       "      <td>0.007688</td>\n",
       "    </tr>\n",
       "  </tbody>\n",
       "</table>\n",
       "</div>"
      ],
      "text/plain": [
       "      target           variable      mean  count       std\n",
       "0    Fake...           at_count  0.306541   4342  0.006997\n",
       "1    Fake...  exclamation_count  0.120451   4342  0.004940\n",
       "2    Fake...      hashtag_count  0.201981   4342  0.006093\n",
       "3  Disaster!           at_count  0.199939   3271  0.006993\n",
       "4  Disaster!  exclamation_count  0.059921   3271  0.004150\n",
       "5  Disaster!      hashtag_count  0.261999   3271  0.007688"
      ]
     },
     "execution_count": 20,
     "metadata": {},
     "output_type": "execute_result"
    }
   ],
   "source": [
    "df_bigger_than_0_prob = df_melt_eda.groupby(['target', 'variable']).\\\n",
    "    agg({'bigger_than_0': ['mean', 'count']})\n",
    "\n",
    "df_bigger_than_0_prob = df_bigger_than_0_prob['bigger_than_0'].reset_index()\n",
    "df_bigger_than_0_prob['target'] = df_bigger_than_0_prob['target'].apply(lambda X: 'Disaster!' if X > 0 else 'Fake...')\n",
    "\n",
    "df_bigger_than_0_prob['std'] = np.sqrt((df_bigger_than_0_prob['mean'] *\\\n",
    "                                       (1 - df_bigger_than_0_prob['mean'])) /\\\n",
    "                                       df_bigger_than_0_prob['count'])\n",
    "df_bigger_than_0_prob['mean']\n",
    "df_bigger_than_0_prob"
   ]
  },
  {
   "cell_type": "markdown",
   "execution_count": null,
   "metadata": {},
   "source": [
    "Since we are studying a proportion, we can visually apply a hypothesis test: the variance of a proportion variable is given by:\n",
    "\n",
    "$$\\sqrt{\\frac{p.(1-p)}{N}}$$\n",
    "\n",
    "It happens because the mean of Bernouilli distributions follows a binominal distribution and we can take the binomial standard deviation formula to estimate the standard deviation of the mean, which will be plotted as error bars in the following plot:\n",
    "\n",
    "(if you didn't understand this part, it's ok! :) just continue to read and consider that the error bars must not cross one over another if we want to be sure that these features really have any influence over the target)"
   ]
  },
  {
   "cell_type": "code",
   "execution_count": 21,
   "metadata": {},
   "outputs": [
    {
     "name": "stderr",
     "output_type": "stream",
     "text": [
      "/opt/conda/lib/python3.6/site-packages/plotnine/coords/coord_cartesian.py:31: MatplotlibDeprecationWarning: The Bunch class was deprecated in Matplotlib 3.0 and will be removed in 3.2. Use types.SimpleNamespace instead.\n",
      "  self.limits = Bunch(xlim=xlim, ylim=ylim)\n",
      "/opt/conda/lib/python3.6/copy.py:274: MatplotlibDeprecationWarning: The Bunch class was deprecated in Matplotlib 3.0 and will be removed in 3.2. Use types.SimpleNamespace instead.\n",
      "  y = func(*args)\n",
      "/opt/conda/lib/python3.6/site-packages/plotnine/facets/facet.py:151: MatplotlibDeprecationWarning: The Bunch class was deprecated in Matplotlib 3.0 and will be removed in 3.2. Use types.SimpleNamespace instead.\n",
      "  scales = Bunch()\n",
      "/opt/conda/lib/python3.6/site-packages/plotnine/facets/layout.py:147: MatplotlibDeprecationWarning: The Bunch class was deprecated in Matplotlib 3.0 and will be removed in 3.2. Use types.SimpleNamespace instead.\n",
      "  return Bunch(x=xsc, y=ysc)\n",
      "/opt/conda/lib/python3.6/site-packages/plotnine/guides/guide_legend.py:179: MatplotlibDeprecationWarning: The Bunch class was deprecated in Matplotlib 3.0 and will be removed in 3.2. Use types.SimpleNamespace instead.\n",
      "  self.glayers.append(Bunch(geom=geom, data=data, layer=l))\n"
     ]
    },
    {
     "data": {
      "image/png": "[encoded data removed]",
      "text/plain": [
       "<Figure size 640x480 with 1 Axes>"
      ]
     },
     "metadata": {},
     "output_type": "display_data"
    },
    {
     "data": {
      "text/plain": [
       "<ggplot: (8733528542945)>"
      ]
     },
     "execution_count": 21,
     "metadata": {},
     "output_type": "execute_result"
    }
   ],
   "source": [
    "ggplot(df_bigger_than_0_prob, aes(x='variable', fill = 'target', group='target')) +\\\n",
    "    geom_bar(aes(y='mean'), position = 'dodge', stat='identity', color='black') +\\\n",
    "    geom_errorbar(aes(ymin='mean - 3 * std', \n",
    "                      ymax='mean + 3 * std'), \n",
    "                  position = position_dodge(0.9), width=0.5) +\\\n",
    "    geom_point(aes(y='mean'), position = position_dodge(0.9), size=5) +\\\n",
    "    xlab('Variable') + ylab('P[Variable > 0]') + ggtitle('Features Influence over Disaster Tweets')"
   ]
  },
  {
   "cell_type": "markdown",
   "execution_count": null,
   "metadata": {},
   "source": [
    "So, with this positive result, I tried to create a model that used these features as aditional inputs to the last Dense Layer of the minimal BERT model presented in the first section. But, as we will see in the **Section 3** (Comparing Models), the effect was not interesting.\n",
    "\n",
    "I also tried to write an autocorrector script using the concepts of [this notebook](https://www.kaggle.com/cpmpml/spell-checker-using-word2vec). It consists in three steps:\n",
    "\n",
    "1. Check the candidates that are similar to the words of the Word2Vec Google's Dictionary (we consider that 2 words are similar if we can transform the invalid word into a valid one with few insertions, deletions or permutations of characters)\n",
    "2. We take the most probable candidate (using the Word2Vec's inverse rank value as a proxy of the probability)\n",
    "3. The most likely candidate is used as correction\n",
    "\n",
    "I tried to apply this function to the words before the tokenization steps. The results didn't get better as we will see in the next section."
   ]
  },
  {
   "cell_type": "markdown",
   "execution_count": null,
   "metadata": {},
   "source": [
    "Noting that the autospelling script didn't work, I just applied the tokenization algorithm over the locations and keywords without concerning with the correctness of the new strings that will be added to the model.\n",
    "\n",
    "Why the autocorrection didn't improve the model? My hypothesis can be found in a comment of the tokenization script imported at the beggining of the notebook:\n",
    "\n",
    "    This uses a greedy longest-match-first algorithm to perform tokenization\n",
    "    using the given vocabulary.\n",
    "    For example:\n",
    "      input = \"unaffable\"\n",
    "      output = [\"un\", \"##aff\", \"##able\"]\n",
    "      \n",
    "So, the code breaks invalid words in a sequence of common suffixes and prefixes in order to get the longest match to valid words. That concept seems to work really well with the BERT neural network structure:\n",
    "\n",
    "![BERT Structure](https://cdn-images-1.medium.com/max/800/0*ViwaI3Vvbnd-CJSQ.png)"
   ]
  },
  {
   "cell_type": "markdown",
   "execution_count": null,
   "metadata": {},
   "source": [
    "Thinking a little bit more about the structure of the BERT Neural Network, I got an idea: the BERT neural network also takes as inputs the segment ID's of each word. So, the last solution that I tried consists in just concatenate the location and the keyword of each row to the text, after zero-pad them with zeros.\n",
    "\n",
    "In this new model, I didt not not use $0$ as the ID for all tokens:\n",
    "\n",
    "- The segment ID of the location tokens would be equal to 0\n",
    "- The segment ID of the keyword tokens would be equal to 1 and\n",
    "- The segment ID of the original text would be equal to 2\n",
    "\n",
    "But I got the same \"problem\": I didn't get any improvement with this model. Let's compare the obtained results in the next section."
   ]
  },
  {
   "cell_type": "markdown",
   "execution_count": null,
   "metadata": {},
   "source": [
    "Well, let's continue our EDA and try to find more features:"
   ]
  },
  {
   "cell_type": "code",
   "execution_count": 22,
   "metadata": {},
   "outputs": [
    {
     "ename": "KeyError",
     "evalue": "'n_'",
     "output_type": "error",
     "traceback": [
      "\u001b[0;31m---------------------------------------------------------------------------\u001b[0m",
      "\u001b[0;31mKeyError\u001b[0m                                  Traceback (most recent call last)",
      "\u001b[0;32m/opt/conda/lib/python3.6/site-packages/pandas/core/indexes/base.py\u001b[0m in \u001b[0;36mget_loc\u001b[0;34m(self, key, method, tolerance)\u001b[0m\n\u001b[1;32m   2896\u001b[0m             \u001b[0;32mtry\u001b[0m\u001b[0;34m:\u001b[0m\u001b[0;34m\u001b[0m\u001b[0m\n\u001b[0;32m-> 2897\u001b[0;31m                 \u001b[0;32mreturn\u001b[0m \u001b[0mself\u001b[0m\u001b[0;34m.\u001b[0m\u001b[0m_engine\u001b[0m\u001b[0;34m.\u001b[0m\u001b[0mget_loc\u001b[0m\u001b[0;34m(\u001b[0m\u001b[0mkey\u001b[0m\u001b[0;34m)\u001b[0m\u001b[0;34m\u001b[0m\u001b[0m\n\u001b[0m\u001b[1;32m   2898\u001b[0m             \u001b[0;32mexcept\u001b[0m \u001b[0mKeyError\u001b[0m\u001b[0;34m:\u001b[0m\u001b[0;34m\u001b[0m\u001b[0m\n",
      "\u001b[0;32mpandas/_libs/index.pyx\u001b[0m in \u001b[0;36mpandas._libs.index.IndexEngine.get_loc\u001b[0;34m()\u001b[0m\n",
      "\u001b[0;32mpandas/_libs/index.pyx\u001b[0m in \u001b[0;36mpandas._libs.index.IndexEngine.get_loc\u001b[0;34m()\u001b[0m\n",
      "\u001b[0;32mpandas/_libs/hashtable_class_helper.pxi\u001b[0m in \u001b[0;36mpandas._libs.hashtable.PyObjectHashTable.get_item\u001b[0;34m()\u001b[0m\n",
      "\u001b[0;32mpandas/_libs/hashtable_class_helper.pxi\u001b[0m in \u001b[0;36mpandas._libs.hashtable.PyObjectHashTable.get_item\u001b[0;34m()\u001b[0m\n",
      "\u001b[0;31mKeyError\u001b[0m: 'n_'",
      "\nDuring handling of the above exception, another exception occurred:\n",
      "\u001b[0;31mKeyError\u001b[0m                                  Traceback (most recent call last)",
      "\u001b[0;32m<ipython-input-22-1ed0c6f49a85>\u001b[0m in \u001b[0;36m<module>\u001b[0;34m\u001b[0m\n\u001b[1;32m      1\u001b[0m \u001b[0mdf_model\u001b[0m\u001b[0;34m[\u001b[0m\u001b[0;34m'n_characters'\u001b[0m\u001b[0;34m]\u001b[0m \u001b[0;34m=\u001b[0m \u001b[0mdf_model\u001b[0m\u001b[0;34m[\u001b[0m\u001b[0;34m'text'\u001b[0m\u001b[0;34m]\u001b[0m\u001b[0;34m.\u001b[0m\u001b[0mapply\u001b[0m\u001b[0;34m(\u001b[0m\u001b[0;32mlambda\u001b[0m \u001b[0mX\u001b[0m\u001b[0;34m:\u001b[0m \u001b[0mlen\u001b[0m\u001b[0;34m(\u001b[0m\u001b[0;34m''\u001b[0m\u001b[0;34m.\u001b[0m\u001b[0mjoin\u001b[0m\u001b[0;34m(\u001b[0m\u001b[0mX\u001b[0m\u001b[0;34m.\u001b[0m\u001b[0msplit\u001b[0m\u001b[0;34m(\u001b[0m\u001b[0;34m)\u001b[0m\u001b[0;34m)\u001b[0m\u001b[0;34m)\u001b[0m\u001b[0;34m)\u001b[0m\u001b[0;34m\u001b[0m\u001b[0m\n\u001b[0;32m----> 2\u001b[0;31m \u001b[0mdf_model\u001b[0m\u001b[0;34m[\u001b[0m\u001b[0;34m'n_'\u001b[0m\u001b[0;34m]\u001b[0m\u001b[0;34m\u001b[0m\u001b[0m\n\u001b[0m",
      "\u001b[0;32m/opt/conda/lib/python3.6/site-packages/pandas/core/frame.py\u001b[0m in \u001b[0;36m__getitem__\u001b[0;34m(self, key)\u001b[0m\n\u001b[1;32m   2993\u001b[0m             \u001b[0;32mif\u001b[0m \u001b[0mself\u001b[0m\u001b[0;34m.\u001b[0m\u001b[0mcolumns\u001b[0m\u001b[0;34m.\u001b[0m\u001b[0mnlevels\u001b[0m \u001b[0;34m>\u001b[0m \u001b[0;36m1\u001b[0m\u001b[0;34m:\u001b[0m\u001b[0;34m\u001b[0m\u001b[0m\n\u001b[1;32m   2994\u001b[0m                 \u001b[0;32mreturn\u001b[0m \u001b[0mself\u001b[0m\u001b[0;34m.\u001b[0m\u001b[0m_getitem_multilevel\u001b[0m\u001b[0;34m(\u001b[0m\u001b[0mkey\u001b[0m\u001b[0;34m)\u001b[0m\u001b[0;34m\u001b[0m\u001b[0m\n\u001b[0;32m-> 2995\u001b[0;31m             \u001b[0mindexer\u001b[0m \u001b[0;34m=\u001b[0m \u001b[0mself\u001b[0m\u001b[0;34m.\u001b[0m\u001b[0mcolumns\u001b[0m\u001b[0;34m.\u001b[0m\u001b[0mget_loc\u001b[0m\u001b[0;34m(\u001b[0m\u001b[0mkey\u001b[0m\u001b[0;34m)\u001b[0m\u001b[0;34m\u001b[0m\u001b[0m\n\u001b[0m\u001b[1;32m   2996\u001b[0m             \u001b[0;32mif\u001b[0m \u001b[0mis_integer\u001b[0m\u001b[0;34m(\u001b[0m\u001b[0mindexer\u001b[0m\u001b[0;34m)\u001b[0m\u001b[0;34m:\u001b[0m\u001b[0;34m\u001b[0m\u001b[0m\n\u001b[1;32m   2997\u001b[0m                 \u001b[0mindexer\u001b[0m \u001b[0;34m=\u001b[0m \u001b[0;34m[\u001b[0m\u001b[0mindexer\u001b[0m\u001b[0;34m]\u001b[0m\u001b[0;34m\u001b[0m\u001b[0m\n",
      "\u001b[0;32m/opt/conda/lib/python3.6/site-packages/pandas/core/indexes/base.py\u001b[0m in \u001b[0;36mget_loc\u001b[0;34m(self, key, method, tolerance)\u001b[0m\n\u001b[1;32m   2897\u001b[0m                 \u001b[0;32mreturn\u001b[0m \u001b[0mself\u001b[0m\u001b[0;34m.\u001b[0m\u001b[0m_engine\u001b[0m\u001b[0;34m.\u001b[0m\u001b[0mget_loc\u001b[0m\u001b[0;34m(\u001b[0m\u001b[0mkey\u001b[0m\u001b[0;34m)\u001b[0m\u001b[0;34m\u001b[0m\u001b[0m\n\u001b[1;32m   2898\u001b[0m             \u001b[0;32mexcept\u001b[0m \u001b[0mKeyError\u001b[0m\u001b[0;34m:\u001b[0m\u001b[0;34m\u001b[0m\u001b[0m\n\u001b[0;32m-> 2899\u001b[0;31m                 \u001b[0;32mreturn\u001b[0m \u001b[0mself\u001b[0m\u001b[0;34m.\u001b[0m\u001b[0m_engine\u001b[0m\u001b[0;34m.\u001b[0m\u001b[0mget_loc\u001b[0m\u001b[0;34m(\u001b[0m\u001b[0mself\u001b[0m\u001b[0;34m.\u001b[0m\u001b[0m_maybe_cast_indexer\u001b[0m\u001b[0;34m(\u001b[0m\u001b[0mkey\u001b[0m\u001b[0;34m)\u001b[0m\u001b[0;34m)\u001b[0m\u001b[0;34m\u001b[0m\u001b[0m\n\u001b[0m\u001b[1;32m   2900\u001b[0m         \u001b[0mindexer\u001b[0m \u001b[0;34m=\u001b[0m \u001b[0mself\u001b[0m\u001b[0;34m.\u001b[0m\u001b[0mget_indexer\u001b[0m\u001b[0;34m(\u001b[0m\u001b[0;34m[\u001b[0m\u001b[0mkey\u001b[0m\u001b[0;34m]\u001b[0m\u001b[0;34m,\u001b[0m \u001b[0mmethod\u001b[0m\u001b[0;34m=\u001b[0m\u001b[0mmethod\u001b[0m\u001b[0;34m,\u001b[0m \u001b[0mtolerance\u001b[0m\u001b[0;34m=\u001b[0m\u001b[0mtolerance\u001b[0m\u001b[0;34m)\u001b[0m\u001b[0;34m\u001b[0m\u001b[0m\n\u001b[1;32m   2901\u001b[0m         \u001b[0;32mif\u001b[0m \u001b[0mindexer\u001b[0m\u001b[0;34m.\u001b[0m\u001b[0mndim\u001b[0m \u001b[0;34m>\u001b[0m \u001b[0;36m1\u001b[0m \u001b[0;32mor\u001b[0m \u001b[0mindexer\u001b[0m\u001b[0;34m.\u001b[0m\u001b[0msize\u001b[0m \u001b[0;34m>\u001b[0m \u001b[0;36m1\u001b[0m\u001b[0;34m:\u001b[0m\u001b[0;34m\u001b[0m\u001b[0m\n",
      "\u001b[0;32mpandas/_libs/index.pyx\u001b[0m in \u001b[0;36mpandas._libs.index.IndexEngine.get_loc\u001b[0;34m()\u001b[0m\n",
      "\u001b[0;32mpandas/_libs/index.pyx\u001b[0m in \u001b[0;36mpandas._libs.index.IndexEngine.get_loc\u001b[0;34m()\u001b[0m\n",
      "\u001b[0;32mpandas/_libs/hashtable_class_helper.pxi\u001b[0m in \u001b[0;36mpandas._libs.hashtable.PyObjectHashTable.get_item\u001b[0;34m()\u001b[0m\n",
      "\u001b[0;32mpandas/_libs/hashtable_class_helper.pxi\u001b[0m in \u001b[0;36mpandas._libs.hashtable.PyObjectHashTable.get_item\u001b[0;34m()\u001b[0m\n",
      "\u001b[0;31mKeyError\u001b[0m: 'n_'"
     ]
    }
   ],
   "source": [
    "df_model['n_characters'] = df_model['text'].apply(lambda X: len(''.join(X.split())))\n",
    "df_model['n_']"
   ]
  },
  {
   "cell_type": "markdown",
   "execution_count": null,
   "metadata": {},
   "source": [
    "# 3. Comparing Models"
   ]
  },
  {
   "cell_type": "markdown",
   "execution_count": null,
   "metadata": {},
   "source": [
    "Importing the saved histories:"
   ]
  },
  {
   "cell_type": "code",
   "execution_count": 23,
   "metadata": {
    "_cell_guid": "",
    "_uuid": ""
   },
   "outputs": [],
   "source": [
    "def index_to_row(df_in):\n",
    "    df_in['Epoch'] = df_in.index\n",
    "    return df_in\n",
    "\n",
    "history_extra_features = index_to_row(pd.read_csv(checkpoint_dir + 'train_history_extra_features.csv'))\n",
    "history_minimal_model_no_label = index_to_row(pd.read_csv(checkpoint_dir + 'train_history_minimal_model_no_label.csv'))\n",
    "history_minimal_model_with_label = index_to_row(pd.read_csv(checkpoint_dir + 'train_history_minimal_model_with_label.csv'))\n",
    "history_with_correction = index_to_row(pd.read_csv(checkpoint_dir + 'train_history_with_correction.csv'))"
   ]
  },
  {
   "cell_type": "code",
   "execution_count": 24,
   "metadata": {},
   "outputs": [
    {
     "data": {
      "text/html": [
       "<div>\n",
       "<style scoped>\n",
       "    .dataframe tbody tr th:only-of-type {\n",
       "        vertical-align: middle;\n",
       "    }\n",
       "\n",
       "    .dataframe tbody tr th {\n",
       "        vertical-align: top;\n",
       "    }\n",
       "\n",
       "    .dataframe thead th {\n",
       "        text-align: right;\n",
       "    }\n",
       "</style>\n",
       "<table border=\"1\" class=\"dataframe\">\n",
       "  <thead>\n",
       "    <tr style=\"text-align: right;\">\n",
       "      <th></th>\n",
       "      <th>loss</th>\n",
       "      <th>accuracy</th>\n",
       "      <th>val_loss</th>\n",
       "      <th>val_accuracy</th>\n",
       "      <th>Epoch</th>\n",
       "      <th>Model</th>\n",
       "    </tr>\n",
       "  </thead>\n",
       "  <tbody>\n",
       "    <tr>\n",
       "      <th>0</th>\n",
       "      <td>0.479528</td>\n",
       "      <td>0.780624</td>\n",
       "      <td>0.399125</td>\n",
       "      <td>0.826001</td>\n",
       "      <td>0</td>\n",
       "      <td>Extra Features</td>\n",
       "    </tr>\n",
       "    <tr>\n",
       "      <th>1</th>\n",
       "      <td>0.347236</td>\n",
       "      <td>0.855993</td>\n",
       "      <td>0.402765</td>\n",
       "      <td>0.830598</td>\n",
       "      <td>1</td>\n",
       "      <td>Extra Features</td>\n",
       "    </tr>\n",
       "    <tr>\n",
       "      <th>2</th>\n",
       "      <td>0.472571</td>\n",
       "      <td>0.777504</td>\n",
       "      <td>0.406378</td>\n",
       "      <td>0.838477</td>\n",
       "      <td>0</td>\n",
       "      <td>Minimal</td>\n",
       "    </tr>\n",
       "    <tr>\n",
       "      <th>3</th>\n",
       "      <td>0.329922</td>\n",
       "      <td>0.865846</td>\n",
       "      <td>0.394055</td>\n",
       "      <td>0.836507</td>\n",
       "      <td>1</td>\n",
       "      <td>Minimal</td>\n",
       "    </tr>\n",
       "    <tr>\n",
       "      <th>4</th>\n",
       "      <td>0.243776</td>\n",
       "      <td>0.903941</td>\n",
       "      <td>0.412795</td>\n",
       "      <td>0.839790</td>\n",
       "      <td>2</td>\n",
       "      <td>Minimal</td>\n",
       "    </tr>\n",
       "  </tbody>\n",
       "</table>\n",
       "</div>"
      ],
      "text/plain": [
       "       loss  accuracy  val_loss  val_accuracy  Epoch           Model\n",
       "0  0.479528  0.780624  0.399125      0.826001      0  Extra Features\n",
       "1  0.347236  0.855993  0.402765      0.830598      1  Extra Features\n",
       "2  0.472571  0.777504  0.406378      0.838477      0         Minimal\n",
       "3  0.329922  0.865846  0.394055      0.836507      1         Minimal\n",
       "4  0.243776  0.903941  0.412795      0.839790      2         Minimal"
      ]
     },
     "execution_count": 24,
     "metadata": {},
     "output_type": "execute_result"
    }
   ],
   "source": [
    "history_extra_features['Model'] = 'Extra Features'\n",
    "history_minimal_model_no_label['Model'] = 'Minimal'\n",
    "history_minimal_model_with_label['Model'] = 'Label'\n",
    "history_with_correction['Model'] = 'Auto Correction'\n",
    "\n",
    "df_histories = pd.concat([\n",
    "    history_extra_features,\n",
    "    history_minimal_model_no_label,\n",
    "    history_minimal_model_with_label,\n",
    "    history_with_correction\n",
    "], axis=0, ignore_index=True)\n",
    "\n",
    "df_histories.head()"
   ]
  },
  {
   "cell_type": "code",
   "execution_count": 25,
   "metadata": {},
   "outputs": [
    {
     "name": "stderr",
     "output_type": "stream",
     "text": [
      "/opt/conda/lib/python3.6/site-packages/plotnine/coords/coord_cartesian.py:31: MatplotlibDeprecationWarning: The Bunch class was deprecated in Matplotlib 3.0 and will be removed in 3.2. Use types.SimpleNamespace instead.\n",
      "  self.limits = Bunch(xlim=xlim, ylim=ylim)\n",
      "/opt/conda/lib/python3.6/copy.py:274: MatplotlibDeprecationWarning: The Bunch class was deprecated in Matplotlib 3.0 and will be removed in 3.2. Use types.SimpleNamespace instead.\n",
      "  y = func(*args)\n",
      "/opt/conda/lib/python3.6/site-packages/plotnine/facets/facet.py:151: MatplotlibDeprecationWarning: The Bunch class was deprecated in Matplotlib 3.0 and will be removed in 3.2. Use types.SimpleNamespace instead.\n",
      "  scales = Bunch()\n",
      "/opt/conda/lib/python3.6/site-packages/plotnine/facets/layout.py:147: MatplotlibDeprecationWarning: The Bunch class was deprecated in Matplotlib 3.0 and will be removed in 3.2. Use types.SimpleNamespace instead.\n",
      "  return Bunch(x=xsc, y=ysc)\n",
      "/opt/conda/lib/python3.6/site-packages/plotnine/guides/guide_legend.py:179: MatplotlibDeprecationWarning: The Bunch class was deprecated in Matplotlib 3.0 and will be removed in 3.2. Use types.SimpleNamespace instead.\n",
      "  self.glayers.append(Bunch(geom=geom, data=data, layer=l))\n"
     ]
    },
    {
     "data": {
      "image/png": "[encoded data removed]",
      "text/plain": [
       "<Figure size 640x480 with 1 Axes>"
      ]
     },
     "metadata": {},
     "output_type": "display_data"
    },
    {
     "data": {
      "text/plain": [
       "<ggplot: (8733528547020)>"
      ]
     },
     "execution_count": 25,
     "metadata": {},
     "output_type": "execute_result"
    }
   ],
   "source": [
    "ggplot(df_histories, aes(x='Epoch', y='val_accuracy', color='Model', group='Model')) +\\\n",
    "    geom_line() + geom_point() + labs(title='Comparing Different Models') +\\\n",
    "    ylab('Validation Accuracy')"
   ]
  },
  {
   "cell_type": "markdown",
   "execution_count": null,
   "metadata": {},
   "source": [
    "We have no choice: we will keep using the minimal Google's BERT model. So, for now, my submission will use the BERT original model with just one Dense layer. Anyway, I still have other plans to try to improve the estimator: I will try to create smaller models and blend them with the output of the obtained neural network. Maybe it can help us to achieve better results."
   ]
  },
  {
   "cell_type": "markdown",
   "execution_count": null,
   "metadata": {},
   "source": [
    "# 5. Conclusions\n",
    "\n",
    "The conclusions, for this first public version of my notebook are:\n",
    "\n",
    "* It seems that it doesn't matter what you try to do: the minimal BERT model is aways better\n",
    "* Auto correction scripts also seem to not be useful at all: the maximum long path search algorithm from the Google Team's tokenizer script is capable to solve the problem of ortograph assuring a better final result\n",
    "* Special characters like #, !, @ and ? have an influence over the probability to have a fake news tweet but adding them to the BERT model didn't seem to improve the validation accuracy\n",
    "\n",
    "So, my next step is to improve the EDA in a new version and try to write a stacked model."
   ]
  }
 ],
 "metadata": {
  "kernelspec": {
   "display_name": "Python 3",
   "language": "python",
   "name": "python3"
  },
  "language_info": {
   "codemirror_mode": {
    "name": "ipython",
    "version": 3
   },
   "file_extension": ".py",
   "mimetype": "text/x-python",
   "name": "python",
   "nbconvert_exporter": "python",
   "pygments_lexer": "ipython3",
   "version": "3.6.6"
  }
 },
 "nbformat": 4,
 "nbformat_minor": 4
}

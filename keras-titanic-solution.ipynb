{
 "cells": [
  {
   "cell_type": "markdown",
   "metadata": {},
   "source": [
    "# Titanic Corvus Guide - Part II - Neural Networks Solution\n",
    "This notebook is continuation of the ??? notebook, where we used simple Scikit Learn models to write an ensemble solution and get to the top 15%. The question is: can we use the knowledge we already got about the Titanic Dataset and develop a new solution using neural networks? Let's see!\n",
    "\n",
    "# 1. Once Again - The Libraries\n",
    "Let-me say it again - It's a good practice to start by importing all used libraries at once."
   ]
  },
  {
   "cell_type": "code",
   "execution_count": 1,
   "metadata": {
    "_cell_guid": "b1076dfc-b9ad-4769-8c92-a6c4dae69d19",
    "_uuid": "8f2839f25d086af736a60e9eeb907d3b93b6e0e5",
    "scrolled": true
   },
   "outputs": [
    {
     "name": "stderr",
     "output_type": "stream",
     "text": [
      "Using TensorFlow backend.\n"
     ]
    }
   ],
   "source": [
    "# BASIC LIBRARIES\n",
    "import numpy as np\n",
    "import pandas as pd\n",
    "import tensorflow as tf\n",
    "\n",
    "# SKLEARN TRANSFORMATIONS AND PIPELINES\n",
    "from sklearn.base import BaseEstimator, TransformerMixin\n",
    "from sklearn.pipeline import Pipeline\n",
    "from sklearn.preprocessing import MinMaxScaler, StandardScaler\n",
    "from sklearn.impute import SimpleImputer\n",
    "from sklearn.decomposition import PCA\n",
    "\n",
    "# NON-SUPERVISED LEARNING\n",
    "from sklearn.cluster import DBSCAN\n",
    "\n",
    "# SUPERVISED LEARNING - NEURAL NETWORKS LIBS\n",
    "from keras.models import Sequential\n",
    "from keras.layers import Dense, Dropout, AlphaDropout\n",
    "\n",
    "# MODEL SELECTION LIBS\n",
    "import tensorflow.keras.backend as K\n",
    "\n",
    "from sklearn.model_selection import GridSearchCV, RandomizedSearchCV, train_test_split\n",
    "from keras.wrappers.scikit_learn import KerasClassifier\n",
    "from keras.callbacks import TensorBoard, EarlyStopping, LearningRateScheduler\n",
    "from keras.optimizers import Nadam\n",
    "\n",
    "# PLOTTING LIBS\n",
    "import seaborn as sns\n",
    "import matplotlib as mpl\n",
    "\n",
    "# ACESSORY LIBRARIES\n",
    "import re\n",
    "import os\n",
    "import dill\n",
    "import time\n",
    "import math\n",
    "import random\n",
    "\n",
    "from collections import Counter\n",
    "from IPython.display import Image, FileLink"
   ]
  },
  {
   "cell_type": "code",
   "execution_count": null,
   "metadata": {},
   "outputs": [],
   "source": [
    "tf.random.set_random_seed(42)\n",
    "random.seed(42)\n",
    "np.random.seed(42)"
   ]
  },
  {
   "cell_type": "code",
   "execution_count": 2,
   "metadata": {},
   "outputs": [],
   "source": [
    "data_dir = '.'\n",
    "K.clear_session()\n",
    "%load_ext tensorboard.notebook"
   ]
  },
  {
   "cell_type": "code",
   "execution_count": 3,
   "metadata": {},
   "outputs": [
    {
     "data": {
      "text/plain": [
       "Reusing TensorBoard on port 6006 (pid 10994), started 3:45:26 ago. (Use '!kill 10994' to kill it.)"
      ]
     },
     "metadata": {},
     "output_type": "display_data"
    },
    {
     "data": {
      "text/html": [
       "\n",
       "        <iframe\n",
       "            width=\"100%\"\n",
       "            height=\"600\"\n",
       "            src=\"http://localhost:6006\"\n",
       "            frameborder=\"0\"\n",
       "            allowfullscreen\n",
       "        ></iframe>\n",
       "        "
      ],
      "text/plain": [
       "<IPython.lib.display.IFrame at 0x7f84584b20b8>"
      ]
     },
     "metadata": {},
     "output_type": "display_data"
    }
   ],
   "source": [
    "%tensorboard --logdir logs"
   ]
  },
  {
   "cell_type": "markdown",
   "metadata": {},
   "source": [
    "# 2. Taking Previous Results\n",
    "What do we already have? Simple:\n",
    "* 2.A The functions used in the transformations\n",
    "* 2.B The transformations used in the pipelines\n",
    "* 2.C The feature importance obtained during the Random Forest Algorithm (which can serve as a subside for us)\n",
    "\n",
    "# 2.A Functions Used in the Transformations"
   ]
  },
  {
   "cell_type": "markdown",
   "metadata": {},
   "source": [
    "## 2.A.1. Significant Data Transformations"
   ]
  },
  {
   "cell_type": "markdown",
   "metadata": {},
   "source": [
    "Functions to separe and classify the titles - Classifying the titles is important to reduce the number of classifications after aggregating the rare occurrences."
   ]
  },
  {
   "cell_type": "code",
   "execution_count": 4,
   "metadata": {
    "_cell_guid": "79c7e3d0-c299-4dcb-8224-4455121ee9b0",
    "_uuid": "d629ff2d2480ee46fbb7e2d37f6b5fab8052498a"
   },
   "outputs": [],
   "source": [
    "def get_title(dataframe_in):\n",
    "    dataframe_in['Title'] = dataframe_in['Name'].apply(lambda X: re.search('[A-Z]{1}[a-z]+\\.', X).group(0))\n",
    "    return dataframe_in\n",
    "\n",
    "def classify_title(dataframe_in):\n",
    "    dataframe_in.loc[:, ['Title']] = dataframe_in['Title'].apply(lambda X: X if X in ['Mr.', 'Miss.', 'Mrs.', 'Master.'] else 'Rare')\n",
    "    return dataframe_in"
   ]
  },
  {
   "cell_type": "markdown",
   "metadata": {},
   "source": [
    "Function to extract the family from the \"Name\" feature."
   ]
  },
  {
   "cell_type": "code",
   "execution_count": 5,
   "metadata": {},
   "outputs": [],
   "source": [
    "def get_family_name(dataframe_in):\n",
    "    dataframe_in['FamilyName'] = dataframe_in['Name'].apply(lambda X: X.split(',')[0])\n",
    "    return dataframe_in"
   ]
  },
  {
   "cell_type": "code",
   "execution_count": 6,
   "metadata": {},
   "outputs": [],
   "source": [
    "def get_cabin_letter(dataframe_in):\n",
    "    def first_letter_if_exists(str_in):\n",
    "        if pd.isnull(str_in):\n",
    "            return '?'\n",
    "        return str_in[0]\n",
    "    dataframe_in['Cabin'] = dataframe_in['Cabin'].apply(first_letter_if_exists)\n",
    "    return dataframe_in"
   ]
  },
  {
   "cell_type": "code",
   "execution_count": 7,
   "metadata": {},
   "outputs": [],
   "source": [
    "def get_cabins_per_family(dataframe_in):\n",
    "    dataframe_in = get_family_name(dataframe_in)\n",
    "    dict_cabins_per_family = dict()\n",
    "    for current_family_name in dataframe_in.FamilyName.unique().tolist():\n",
    "    \n",
    "        filter_family_name = (dataframe_in['FamilyName'] == current_family_name)\n",
    "        filter_known_cabin = (dataframe_in['Cabin'] != '?')\n",
    "        listCabinsFromFamily = dataframe_in.loc[(filter_family_name) & (filter_known_cabin)].Cabin.unique().tolist()\n",
    "    \n",
    "        if len(listCabinsFromFamily) > 0:\n",
    "            max_v, mode = 0, None\n",
    "            for curr_cabin, v in Counter(listCabinsFromFamily).items():\n",
    "                if v > max_v:\n",
    "                    max_v, mode = v, curr_cabin\n",
    "            dict_cabins_per_family[current_family_name] = mode\n",
    "    \n",
    "    return dict_cabins_per_family"
   ]
  },
  {
   "cell_type": "markdown",
   "metadata": {},
   "source": [
    "Functions to relate each family to a cabin. First we define the function to be applied to each row:"
   ]
  },
  {
   "cell_type": "code",
   "execution_count": 8,
   "metadata": {},
   "outputs": [],
   "source": [
    "def get_family_cabin_per_row(df_row, dict_family_in):\n",
    "    dict_cabins_per_family = dict_family_in\n",
    "    \n",
    "    if df_row.FamilyName in dict_cabins_per_family and df_row.Cabin == '?':\n",
    "        out = dict_cabins_per_family[df_row.FamilyName]\n",
    "    else:\n",
    "        out = df_row.Cabin\n",
    "    return out"
   ]
  },
  {
   "cell_type": "markdown",
   "metadata": {},
   "source": [
    "Then apply the function over all the dataframe..."
   ]
  },
  {
   "cell_type": "code",
   "execution_count": 9,
   "metadata": {},
   "outputs": [],
   "source": [
    "def get_family_cabin(df, dict_family_in):\n",
    "    \n",
    "    df['Cabin'] = df.apply(lambda X: get_family_cabin_per_row(X, dict_family_in), axis = 1)\n",
    "    df['Cabin'] = df['Cabin'].fillna('?')\n",
    "    \n",
    "    return df"
   ]
  },
  {
   "cell_type": "markdown",
   "metadata": {},
   "source": [
    "## 2.A.2. Missing Data Transformations"
   ]
  },
  {
   "cell_type": "markdown",
   "metadata": {},
   "source": [
    "We saw that all the people with a \"Master\" title were really young. Then, the variance of that group was small and it was possible to separe the algorithm in two partes: (1) filling the missing age of the \"Masters\" (which can be done easily by simply filling the NA's with the median or average value of the master people) and (2) filling the age missing values of the \"Non Masters\", which can be done with the same procedure.\n",
    "\n",
    "Filling the ages with means and medians to the second case can lead us many mistakes since the variance is not small to that group. That's why we propose to use a clustering algorithm to separe the people in different groups."
   ]
  },
  {
   "cell_type": "code",
   "execution_count": 10,
   "metadata": {},
   "outputs": [],
   "source": [
    "def fill_age_from_masters(df, strategy_in = 'median'):\n",
    "    is_master = (df['Title'] == 'Master.')\n",
    "    imp = SimpleImputer(missing_values = np.nan, strategy = strategy_in)\n",
    "    df.loc[is_master, 'Age'] = imp.fit_transform(df.loc[is_master][['Age']])\n",
    "    return df"
   ]
  },
  {
   "cell_type": "code",
   "execution_count": 11,
   "metadata": {},
   "outputs": [],
   "source": [
    "def fill_age_from_non_masters(df, strategy_in = 'median'):\n",
    "    is_not_master = (df['Title'] != 'Master.')\n",
    "    imp = SimpleImputer(missing_values = np.nan, strategy = strategy_in)\n",
    "    df.loc[is_not_master, 'Age'] = imp.fit_transform(df.loc[is_not_master][['Age']])\n",
    "    return df"
   ]
  },
  {
   "cell_type": "markdown",
   "metadata": {},
   "source": [
    "# 2.B. Transformations Used in Pipelines"
   ]
  },
  {
   "cell_type": "markdown",
   "metadata": {},
   "source": [
    "## 2.B.1. Transform Significant Data\n",
    "A transformation that represents the extraction of significant variables, defined during the feature exploration step."
   ]
  },
  {
   "cell_type": "code",
   "execution_count": 12,
   "metadata": {},
   "outputs": [],
   "source": [
    "class TransformerSignificantData(BaseEstimator, TransformerMixin):\n",
    "    \n",
    "    def __init__(self):\n",
    "        return\n",
    "        \n",
    "    def fit(self, X, y=None):\n",
    "        return self\n",
    "    \n",
    "    def transform(self, X, y=None):\n",
    "        \n",
    "        out = get_family_name(X)\n",
    "        \n",
    "        out = get_title(out)\n",
    "        out = classify_title(out)\n",
    "        \n",
    "        out = get_cabin_letter(out)\n",
    "        dict_cabins_per_family = get_cabins_per_family(out)\n",
    "        out = get_family_cabin(out, dict_cabins_per_family)\n",
    "\n",
    "        return out"
   ]
  },
  {
   "cell_type": "markdown",
   "metadata": {},
   "source": [
    "## 2.B.2. Transformer Dummify\n",
    "As the name suggests, it's the transformation responsible to the \"dummification\" of variables by using one-hot encoding and removind one category per feature hot-encoded (to avoid the curse of dimentionality)."
   ]
  },
  {
   "cell_type": "code",
   "execution_count": 13,
   "metadata": {},
   "outputs": [],
   "source": [
    "class TransformerDummify(BaseEstimator, TransformerMixin):\n",
    "    \n",
    "    def __init__(self):\n",
    "        return\n",
    "    \n",
    "    def fit(self, X, y=None):\n",
    "        return self\n",
    "    \n",
    "    def transform(self, X, y=None):\n",
    "        \n",
    "        columns_to_dummify = ['Sex', 'Cabin', 'Embarked', 'Title']\n",
    "        useless_columns = ['PassengerId', 'Name', 'Ticket', 'FamilyName']\n",
    "        dim_redundant_cols = ['Sex_male', 'Cabin_?', 'Embarked_S', 'Title_Rare']\n",
    "        \n",
    "        out_dummies = pd.get_dummies(X[columns_to_dummify], prefix = columns_to_dummify)\n",
    "        \n",
    "        out = pd.concat([X, out_dummies], axis =1)\n",
    "        out = out.drop(useless_columns + columns_to_dummify + dim_redundant_cols, axis = 1)\n",
    "        \n",
    "        return out"
   ]
  },
  {
   "cell_type": "markdown",
   "metadata": {},
   "source": [
    "## 2.B.3. Transformer Missing Data\n",
    "Transformer that inputs all the missing data. A special attention was given to the \"Age\" feature and the procedure of label propagation over DBSCAN clusters was used:"
   ]
  },
  {
   "cell_type": "code",
   "execution_count": 14,
   "metadata": {},
   "outputs": [],
   "source": [
    "class TransformerMissingData(BaseEstimator, TransformerMixin):\n",
    "    \n",
    "    def __init__(self, missing_age_masters_strategy='mean', missing_age_non_masters_strategy='cluster'):\n",
    "        self.missing_age_masters_strategy = missing_age_masters_strategy\n",
    "        self.missing_age_non_masters_strategy = missing_age_non_masters_strategy\n",
    "        \n",
    "    def fit(self, X, y=None):\n",
    "        return self\n",
    "    \n",
    "    def transform(self, X, y=None):\n",
    "\n",
    "        is_not_master = (X['Title_Master.'] == 0)\n",
    "        is_master = (X['Title_Master.'] == 1)\n",
    "        \n",
    "        imp_non_master = SimpleImputer(missing_values = np.nan, \n",
    "                                       strategy = self.missing_age_non_masters_strategy)\n",
    "        \n",
    "        imp_master = SimpleImputer(missing_values = np.nan, \n",
    "                                   strategy = self.missing_age_masters_strategy)\n",
    "        \n",
    "        imp_fare = SimpleImputer(missing_values = np.nan,\n",
    "                                 strategy = 'mean')\n",
    "        \n",
    "        X.loc[is_master, 'Age'] = imp_master.fit_transform(X.loc[is_master, ['Age']])\n",
    "        X.loc[:, 'Fare'] = imp_fare.fit_transform(X.loc[:, ['Fare']])\n",
    "        \n",
    "        if self.missing_age_non_masters_strategy in ['mean', 'median']:\n",
    "            X.loc[is_not_master, 'Age'] = imp_non_master.fit_transform(X.loc[is_not_master, ['Age']])\n",
    "            \n",
    "        elif self.missing_age_non_masters_strategy == 'cluster':\n",
    "            \n",
    "            X_without_age = X.drop(['Age', 'Survived'], axis = 1)\n",
    "            pca_fit_vec = PCA(n_components = 3).fit_transform(X_without_age)\n",
    "            \n",
    "            X['ClusterLabel'] = DBSCAN(eps = 0.7, min_samples = 20).fit_predict(pca_fit_vec)\n",
    "            dict_means_per_cluster = dict()\n",
    "            for cluster_label in X['ClusterLabel'].tolist():\n",
    "                dict_means_per_cluster[cluster_label] = X.loc[X['ClusterLabel'] == cluster_label, :]['Age'].mean()\n",
    "            \n",
    "            age_list = X['Age'].tolist()\n",
    "            cluster_list = X['ClusterLabel'].tolist()\n",
    "            for i, curr_age in enumerate(age_list):\n",
    "                if np.isnan(curr_age):\n",
    "                    age_list[i] = dict_means_per_cluster[cluster_label]\n",
    "            X['Age'] = age_list\n",
    "            X.drop('ClusterLabel', axis=1, inplace=True)\n",
    "                \n",
    "        return X"
   ]
  },
  {
   "cell_type": "markdown",
   "metadata": {},
   "source": [
    "And after all these transformations, we just normalize the data:"
   ]
  },
  {
   "cell_type": "code",
   "execution_count": 15,
   "metadata": {},
   "outputs": [],
   "source": [
    "class TransformerNormalize(BaseEstimator, TransformerMixin):\n",
    "    \n",
    "    def __init__(self):\n",
    "        return\n",
    "    \n",
    "    def fit(self, X, y = None):\n",
    "        return self\n",
    "    \n",
    "    def transform(self, X, y = None):\n",
    "        \n",
    "        out = X\n",
    "        out.loc[:, ['Pclass']] = MinMaxScaler().fit_transform(out[['Pclass']])\n",
    "        out.loc[:, ['Age', 'Fare']] = StandardScaler().fit_transform(out[['Age', 'Fare']])\n",
    "        \n",
    "        return out"
   ]
  },
  {
   "cell_type": "markdown",
   "metadata": {},
   "source": [
    "# 2.C. Pipelines"
   ]
  },
  {
   "cell_type": "markdown",
   "metadata": {},
   "source": [
    "## 2.C.1. Feature Engineering Pipeline\n",
    "The pipeline where the data is preprocessed according to the transformations exposed in the previous step. The hyper-parameters of those transformations can, with this instance, be tunned:"
   ]
  },
  {
   "cell_type": "code",
   "execution_count": 16,
   "metadata": {},
   "outputs": [],
   "source": [
    "feature_engineering_pipeline = Pipeline([\n",
    "    ('prepare', TransformerSignificantData()),\n",
    "    ('dummify', TransformerDummify()),\n",
    "    ('normalize', TransformerNormalize()),\n",
    "    ('missing', TransformerMissingData())\n",
    "])"
   ]
  },
  {
   "cell_type": "markdown",
   "metadata": {},
   "source": [
    "## 2.C.2. Train and Test Splitting Procedure"
   ]
  },
  {
   "cell_type": "markdown",
   "metadata": {},
   "source": [
    "Let's take the code to split the train / validation set and the testing set as a function. Remember that the training and validating occur in the same set because we are using a Cross Validation K-Fold procedure:"
   ]
  },
  {
   "cell_type": "code",
   "execution_count": 17,
   "metadata": {},
   "outputs": [],
   "source": [
    "def split_cv_test(df_all_processed):\n",
    "    df_ans = df_all_processed[df_all_processed['Survived'].isnull()]\n",
    "    df_ans = df_ans.loc[:, df_ans.columns != 'Survived']\n",
    "    df_cv_and_test = df_all_processed[df_all_processed['Survived'].notnull()]\n",
    "    df_cv_and_test_X = df_cv_and_test.drop(['Survived'], axis = 1)\n",
    "    df_cv_and_test_Y = df_cv_and_test['Survived']\n",
    "    df_cv_X, df_test_X, df_cv_Y, df_test_Y = train_test_split(df_cv_and_test_X,\n",
    "                                                              df_cv_and_test_Y,\n",
    "                                                              test_size = 0.1)\n",
    "    return df_cv_X, df_cv_Y, df_test_X, df_test_Y, df_ans, df_cv_and_test_X, df_cv_and_test_Y"
   ]
  },
  {
   "cell_type": "markdown",
   "metadata": {},
   "source": [
    "# 3. Starting the Game - Titanic - A NN Approach\n",
    "Applying Preprocessing Pipeline\n",
    "Let's read and pre-process our data just like before:"
   ]
  },
  {
   "cell_type": "code",
   "execution_count": 18,
   "metadata": {},
   "outputs": [
    {
     "data": {
      "text/html": [
       "<div>\n",
       "<style scoped>\n",
       "    .dataframe tbody tr th:only-of-type {\n",
       "        vertical-align: middle;\n",
       "    }\n",
       "\n",
       "    .dataframe tbody tr th {\n",
       "        vertical-align: top;\n",
       "    }\n",
       "\n",
       "    .dataframe thead th {\n",
       "        text-align: right;\n",
       "    }\n",
       "</style>\n",
       "<table border=\"1\" class=\"dataframe\">\n",
       "  <thead>\n",
       "    <tr style=\"text-align: right;\">\n",
       "      <th></th>\n",
       "      <th>PassengerId</th>\n",
       "      <th>Survived</th>\n",
       "      <th>Pclass</th>\n",
       "      <th>Name</th>\n",
       "      <th>Sex</th>\n",
       "      <th>Age</th>\n",
       "      <th>SibSp</th>\n",
       "      <th>Parch</th>\n",
       "      <th>Ticket</th>\n",
       "      <th>Fare</th>\n",
       "      <th>Cabin</th>\n",
       "      <th>Embarked</th>\n",
       "    </tr>\n",
       "  </thead>\n",
       "  <tbody>\n",
       "    <tr>\n",
       "      <td>0</td>\n",
       "      <td>1</td>\n",
       "      <td>0.0</td>\n",
       "      <td>3</td>\n",
       "      <td>Braund, Mr. Owen Harris</td>\n",
       "      <td>male</td>\n",
       "      <td>22.0</td>\n",
       "      <td>1</td>\n",
       "      <td>0</td>\n",
       "      <td>A/5 21171</td>\n",
       "      <td>7.2500</td>\n",
       "      <td>NaN</td>\n",
       "      <td>S</td>\n",
       "    </tr>\n",
       "    <tr>\n",
       "      <td>1</td>\n",
       "      <td>2</td>\n",
       "      <td>1.0</td>\n",
       "      <td>1</td>\n",
       "      <td>Cumings, Mrs. John Bradley (Florence Briggs Th...</td>\n",
       "      <td>female</td>\n",
       "      <td>38.0</td>\n",
       "      <td>1</td>\n",
       "      <td>0</td>\n",
       "      <td>PC 17599</td>\n",
       "      <td>71.2833</td>\n",
       "      <td>C85</td>\n",
       "      <td>C</td>\n",
       "    </tr>\n",
       "    <tr>\n",
       "      <td>2</td>\n",
       "      <td>3</td>\n",
       "      <td>1.0</td>\n",
       "      <td>3</td>\n",
       "      <td>Heikkinen, Miss. Laina</td>\n",
       "      <td>female</td>\n",
       "      <td>26.0</td>\n",
       "      <td>0</td>\n",
       "      <td>0</td>\n",
       "      <td>STON/O2. 3101282</td>\n",
       "      <td>7.9250</td>\n",
       "      <td>NaN</td>\n",
       "      <td>S</td>\n",
       "    </tr>\n",
       "    <tr>\n",
       "      <td>3</td>\n",
       "      <td>4</td>\n",
       "      <td>1.0</td>\n",
       "      <td>1</td>\n",
       "      <td>Futrelle, Mrs. Jacques Heath (Lily May Peel)</td>\n",
       "      <td>female</td>\n",
       "      <td>35.0</td>\n",
       "      <td>1</td>\n",
       "      <td>0</td>\n",
       "      <td>113803</td>\n",
       "      <td>53.1000</td>\n",
       "      <td>C123</td>\n",
       "      <td>S</td>\n",
       "    </tr>\n",
       "    <tr>\n",
       "      <td>4</td>\n",
       "      <td>5</td>\n",
       "      <td>0.0</td>\n",
       "      <td>3</td>\n",
       "      <td>Allen, Mr. William Henry</td>\n",
       "      <td>male</td>\n",
       "      <td>35.0</td>\n",
       "      <td>0</td>\n",
       "      <td>0</td>\n",
       "      <td>373450</td>\n",
       "      <td>8.0500</td>\n",
       "      <td>NaN</td>\n",
       "      <td>S</td>\n",
       "    </tr>\n",
       "  </tbody>\n",
       "</table>\n",
       "</div>"
      ],
      "text/plain": [
       "   PassengerId  Survived  Pclass  \\\n",
       "0            1       0.0       3   \n",
       "1            2       1.0       1   \n",
       "2            3       1.0       3   \n",
       "3            4       1.0       1   \n",
       "4            5       0.0       3   \n",
       "\n",
       "                                                Name     Sex   Age  SibSp  \\\n",
       "0                            Braund, Mr. Owen Harris    male  22.0      1   \n",
       "1  Cumings, Mrs. John Bradley (Florence Briggs Th...  female  38.0      1   \n",
       "2                             Heikkinen, Miss. Laina  female  26.0      0   \n",
       "3       Futrelle, Mrs. Jacques Heath (Lily May Peel)  female  35.0      1   \n",
       "4                           Allen, Mr. William Henry    male  35.0      0   \n",
       "\n",
       "   Parch            Ticket     Fare Cabin Embarked  \n",
       "0      0         A/5 21171   7.2500   NaN        S  \n",
       "1      0          PC 17599  71.2833   C85        C  \n",
       "2      0  STON/O2. 3101282   7.9250   NaN        S  \n",
       "3      0            113803  53.1000  C123        S  \n",
       "4      0            373450   8.0500   NaN        S  "
      ]
     },
     "execution_count": 18,
     "metadata": {},
     "output_type": "execute_result"
    }
   ],
   "source": [
    "df_in = [pd.read_csv(data_dir + '/train.csv'), pd.read_csv(data_dir + '/test.csv')]\n",
    "df_in = pd.concat(df_in, ignore_index = True, sort = False)\n",
    "df_in.head()"
   ]
  },
  {
   "cell_type": "code",
   "execution_count": 19,
   "metadata": {},
   "outputs": [
    {
     "name": "stdout",
     "output_type": "stream",
     "text": [
      "         Survived       Pclass          Age        SibSp        Parch  \\\n",
      "count  891.000000  1309.000000  1309.000000  1309.000000  1309.000000   \n",
      "mean     0.383838     0.647441    -0.004648     0.498854     0.385027   \n",
      "std      0.486592     0.418918     0.904092     1.041658     0.865560   \n",
      "min      0.000000     0.000000    -2.062328     0.000000     0.000000   \n",
      "25%      0.000000     0.500000    -0.547050     0.000000     0.000000   \n",
      "50%      0.000000     1.000000     0.029271     0.000000     0.000000   \n",
      "75%      1.000000     1.000000     0.355314     1.000000     0.000000   \n",
      "max      1.000000     1.000000     3.478882     8.000000     9.000000   \n",
      "\n",
      "               Fare   Sex_female      Cabin_A      Cabin_B      Cabin_C  ...  \\\n",
      "count  1.309000e+03  1309.000000  1309.000000  1309.000000  1309.000000  ...   \n",
      "mean  -1.058486e-16     0.355997     0.018335     0.055768     0.075630  ...   \n",
      "std    1.000000e+00     0.478997     0.134210     0.229560     0.264507  ...   \n",
      "min   -6.435292e-01     0.000000     0.000000     0.000000     0.000000  ...   \n",
      "25%   -4.909206e-01     0.000000     0.000000     0.000000     0.000000  ...   \n",
      "50%   -3.641609e-01     0.000000     0.000000     0.000000     0.000000  ...   \n",
      "75%   -3.905147e-02     1.000000     0.000000     0.000000     0.000000  ...   \n",
      "max    9.258680e+00     1.000000     1.000000     1.000000     1.000000  ...   \n",
      "\n",
      "           Cabin_E      Cabin_F      Cabin_G      Cabin_T   Embarked_C  \\\n",
      "count  1309.000000  1309.000000  1309.000000  1309.000000  1309.000000   \n",
      "mean      0.038197     0.019099     0.003820     0.000764     0.206264   \n",
      "std       0.191745     0.136924     0.061709     0.027639     0.404777   \n",
      "min       0.000000     0.000000     0.000000     0.000000     0.000000   \n",
      "25%       0.000000     0.000000     0.000000     0.000000     0.000000   \n",
      "50%       0.000000     0.000000     0.000000     0.000000     0.000000   \n",
      "75%       0.000000     0.000000     0.000000     0.000000     0.000000   \n",
      "max       1.000000     1.000000     1.000000     1.000000     1.000000   \n",
      "\n",
      "        Embarked_Q  Title_Master.  Title_Miss.    Title_Mr.   Title_Mrs.  \n",
      "count  1309.000000    1309.000000  1309.000000  1309.000000  1309.000000  \n",
      "mean      0.093965       0.046600     0.198625     0.578304     0.150497  \n",
      "std       0.291891       0.210862     0.399117     0.494019     0.357694  \n",
      "min       0.000000       0.000000     0.000000     0.000000     0.000000  \n",
      "25%       0.000000       0.000000     0.000000     0.000000     0.000000  \n",
      "50%       0.000000       0.000000     0.000000     1.000000     0.000000  \n",
      "75%       0.000000       0.000000     0.000000     1.000000     0.000000  \n",
      "max       1.000000       1.000000     1.000000     1.000000     1.000000  \n",
      "\n",
      "[8 rows x 21 columns]\n"
     ]
    }
   ],
   "source": [
    "df_in_norm = feature_engineering_pipeline.transform(df_in)\n",
    "print(df_in_norm.describe())"
   ]
  },
  {
   "cell_type": "markdown",
   "metadata": {},
   "source": [
    "# 3.A. Defyning Neural Network Model to Apply\n",
    "To create our neural network model, we will use the \"Keras Library\". The idea here is to test different architectures, enhancing the hyperparameters little by little. It's impossible to GridSearch over all possible neural networks that we can apply. We are going to tune the number of hidden layers and the activation function for three different models:\n",
    "\n",
    "* An ordinary Feed Foward Neural Network\n",
    "* A Neural Network using a standard DropOut function\n",
    "* A Neural Network using an AlphaDropOut function\n",
    "\n",
    "The DropOut's will employ a DropOut rate of $50\\%$."
   ]
  },
  {
   "cell_type": "code",
   "execution_count": 21,
   "metadata": {},
   "outputs": [
    {
     "name": "stdout",
     "output_type": "stream",
     "text": [
      "WARNING:tensorflow:From /home/x/.local/lib/python3.6/site-packages/tensorflow/python/framework/op_def_library.py:263: colocate_with (from tensorflow.python.framework.ops) is deprecated and will be removed in a future version.\n",
      "Instructions for updating:\n",
      "Colocations handled automatically by placer.\n",
      "<keras.engine.sequential.Sequential object at 0x7f83f8dddb70>\n"
     ]
    }
   ],
   "source": [
    "n_col = len(df_in_norm.columns)\n",
    "def nn_layers_and_activation(n_hidden_layers, activation_func, dropout=None):\n",
    "    \n",
    "    in_layer_args = dict(\n",
    "        units = n_col - 1,\n",
    "        activation = activation_func,\n",
    "        input_dim = n_col - 1,\n",
    "        kernel_initializer = 'lecun_uniform'\n",
    "    )\n",
    "    \n",
    "    out_layer_args = dict(\n",
    "        units = 1,\n",
    "        activation = 'sigmoid',\n",
    "        input_dim = n_col - 1,\n",
    "        kernel_initializer = 'lecun_uniform'\n",
    "    )\n",
    "    \n",
    "    model_args = dict(\n",
    "        loss = 'binary_crossentropy',\n",
    "        optimizer = 'nadam',\n",
    "        metrics = ['binary_accuracy']\n",
    "    )\n",
    "    \n",
    "    SelectedDropout = Dropout if dropout == 'Dropout' else AlphaDropout\n",
    "    out_model = Sequential()\n",
    "    for i in range(0, n_hidden_layers + 1):\n",
    "        out_model.add(Dense(**in_layer_args))\n",
    "        if dropout is not None:\n",
    "            out_model.add(SelectedDropout(rate=0.5))\n",
    "        \n",
    "    out_model.add(Dense(**out_layer_args))\n",
    "    out_model.compile(**model_args)\n",
    "    return out_model\n",
    "    \n",
    "\n",
    "test_nn = nn_layers_and_activation(1, 'relu')\n",
    "print(test_nn)"
   ]
  },
  {
   "cell_type": "markdown",
   "metadata": {},
   "source": [
    "Notice that:\n",
    "* We are defining the number of hidden layers, not the number of total layers ($N_{Total Layers} = N_{Hidden Layers} + 2$)\n",
    "* Since the output can get values equal to zero or one, we are defining the output function as a simple sigmoid (generally, the output function is defined by the type of problem - regression or classification - and by the number of outputs - for problems with multiple classes, we use the softmax function and for binary classification, it's common to employ the logistic function as we have done here).\n",
    "Let's try to tune our hyperparameters, testing different numbers of $N_{Hidden Layers}$ and creating a pipeline to realize our GridSearch. But, before, let's separe out training and test sets:"
   ]
  },
  {
   "cell_type": "code",
   "execution_count": 22,
   "metadata": {},
   "outputs": [
    {
     "name": "stdout",
     "output_type": "stream",
     "text": [
      "     Pclass       Age  SibSp  Parch      Fare  Sex_female  Cabin_A  Cabin_B  \\\n",
      "740     0.0  0.029271      0      0 -0.063694           0        0        0   \n",
      "332     0.0  0.563552      0      1  2.322567           0        0        0   \n",
      "22      1.0 -1.032939      0      0 -0.488342           1        0        0   \n",
      "866     0.5 -0.199987      1      0 -0.375678           1        0        0   \n",
      "748     0.0 -0.755288      1      0  0.382778           0        0        0   \n",
      "\n",
      "     Cabin_C  Cabin_D  Cabin_E  Cabin_F  Cabin_G  Cabin_T  Embarked_C  \\\n",
      "740        0        1        0        0        0        0           0   \n",
      "332        1        0        0        0        0        0           0   \n",
      "22         0        0        0        0        0        0           0   \n",
      "866        0        0        0        0        0        0           1   \n",
      "748        0        1        0        0        0        0           0   \n",
      "\n",
      "     Embarked_Q  Title_Master.  Title_Miss.  Title_Mr.  Title_Mrs.  \n",
      "740           0              0            0          1           0  \n",
      "332           0              0            0          1           0  \n",
      "22            1              0            1          0           0  \n",
      "866           0              0            1          0           0  \n",
      "748           0              0            0          1           0  \n"
     ]
    }
   ],
   "source": [
    "df_cv_X, df_cv_Y, df_test_X, df_test_Y, df_ans, df_cv_and_test_X, df_cv_and_test_Y = split_cv_test(df_in_norm)\n",
    "print(df_cv_X.head())"
   ]
  },
  {
   "cell_type": "markdown",
   "metadata": {},
   "source": [
    "First, let's try to find the optimal activation function using common values to all the others hyperparameters."
   ]
  },
  {
   "cell_type": "code",
   "execution_count": 24,
   "metadata": {},
   "outputs": [],
   "source": [
    "wrapped_tune_layers_and_activation = KerasClassifier(build_fn=nn_layers_and_activation, \n",
    "                                                     batch_size=64, \n",
    "                                                     verbose=0)\n",
    "\n",
    "nn_pipeline = Pipeline([\n",
    "    ('tune_layers_and_activation', wrapped_tune_layers_and_activation)\n",
    "])\n",
    "\n",
    "def gen_scheduler(eta=0.1, epoch0=100.0):\n",
    "    def exp_decay_fn(epoch, lr):\n",
    "        return lr * eta ** (epoch / epoch0)\n",
    "    return LearningRateScheduler(exp_decay_fn)\n",
    "\n",
    "tensorboard_cb = TensorBoard(run_logdir)\n",
    "dict_params_standard = dict(\n",
    "    tune_layers_and_activation__n_hidden_layers = [1, 4, 3, 5, 10],\n",
    "    tune_layers_and_activation__epochs = [100],\n",
    "    tune_layers_and_activation__activation_func = ['sigmoid', 'relu', 'tanh', 'selu'],\n",
    "    tune_layers_and_activation__dropout = [None],\n",
    "    tune_layers_and_activation__callbacks = [[gen_scheduler(epoch0=X), \n",
    "                                              EarlyStopping(patience=10, restore_best_weights=False)]\\\n",
    "                                              for X in [900, 1000, 1100, 1200]]\n",
    ")\n",
    "dict_params_dropout = dict(\n",
    "    tune_layers_and_activation__n_hidden_layers = [1, 4, 3, 5, 10],\n",
    "    tune_layers_and_activation__epochs = [100],\n",
    "    tune_layers_and_activation__activation_func = ['sigmoid', 'relu', 'tanh', 'selu'],\n",
    "    tune_layers_and_activation__dropout = ['Dropout'],\n",
    "    tune_layers_and_activation__callbacks = [[gen_scheduler(epoch0=X), \n",
    "                                              EarlyStopping(patience=10, restore_best_weights=False)]\\\n",
    "                                              for X in [900, 1000, 1100, 1200]]\n",
    ")\n",
    "dict_params_alphadropout = dict(\n",
    "    tune_layers_and_activation__n_hidden_layers = [1, 4, 3, 5, 10],\n",
    "    tune_layers_and_activation__epochs = [100],\n",
    "    tune_layers_and_activation__activation_func = ['sigmoid', 'relu', 'tanh', 'selu'],\n",
    "    tune_layers_and_activation__dropout = ['AlphaDropout'],\n",
    "    tune_layers_and_activation__callbacks = [[gen_scheduler(epoch0=X), \n",
    "                                              EarlyStopping(patience=10, restore_best_weights=False)]\\\n",
    "                                              for X in [900, 1000, 1100, 1200]]\n",
    ")"
   ]
  },
  {
   "cell_type": "code",
   "execution_count": 26,
   "metadata": {},
   "outputs": [
    {
     "name": "stdout",
     "output_type": "stream",
     "text": [
      "Fitting model without Dropout\n",
      "Fitting 3 folds for each of 80 candidates, totalling 240 fits\n"
     ]
    },
    {
     "name": "stderr",
     "output_type": "stream",
     "text": [
      "[Parallel(n_jobs=-1)]: Using backend LokyBackend with 8 concurrent workers.\n",
      "[Parallel(n_jobs=-1)]: Done   2 tasks      | elapsed:    7.4s\n",
      "[Parallel(n_jobs=-1)]: Done   9 tasks      | elapsed:   11.9s\n",
      "[Parallel(n_jobs=-1)]: Done  16 tasks      | elapsed:   16.7s\n",
      "[Parallel(n_jobs=-1)]: Done  25 tasks      | elapsed:   23.2s\n",
      "[Parallel(n_jobs=-1)]: Done  34 tasks      | elapsed:   30.7s\n",
      "[Parallel(n_jobs=-1)]: Done  45 tasks      | elapsed:   40.8s\n",
      "[Parallel(n_jobs=-1)]: Done  56 tasks      | elapsed:   51.5s\n",
      "[Parallel(n_jobs=-1)]: Done  69 tasks      | elapsed:  1.1min\n",
      "[Parallel(n_jobs=-1)]: Done  82 tasks      | elapsed:  1.3min\n",
      "[Parallel(n_jobs=-1)]: Done  97 tasks      | elapsed:  1.6min\n",
      "[Parallel(n_jobs=-1)]: Done 112 tasks      | elapsed:  1.9min\n",
      "[Parallel(n_jobs=-1)]: Done 129 tasks      | elapsed:  2.3min\n",
      "[Parallel(n_jobs=-1)]: Done 146 tasks      | elapsed:  2.6min\n",
      "[Parallel(n_jobs=-1)]: Done 165 tasks      | elapsed:  3.1min\n",
      "[Parallel(n_jobs=-1)]: Done 184 tasks      | elapsed:  3.6min\n",
      "[Parallel(n_jobs=-1)]: Done 205 tasks      | elapsed:  4.2min\n"
     ]
    },
    {
     "name": "stdout",
     "output_type": "stream",
     "text": [
      "WARNING:tensorflow:From /home/x/.local/lib/python3.6/site-packages/tensorflow/python/ops/math_ops.py:3066: to_int32 (from tensorflow.python.ops.math_ops) is deprecated and will be removed in a future version.\n",
      "Instructions for updating:\n",
      "Use tf.cast instead.\n"
     ]
    },
    {
     "name": "stderr",
     "output_type": "stream",
     "text": [
      "[Parallel(n_jobs=-1)]: Done 240 out of 240 | elapsed:  5.4min finished\n",
      "/usr/local/lib/python3.6/dist-packages/keras/callbacks.py:842: RuntimeWarning: Early stopping conditioned on metric `val_loss` which is not available. Available metrics are: loss,binary_accuracy,lr\n",
      "  (self.monitor, ','.join(list(logs.keys()))), RuntimeWarning\n"
     ]
    },
    {
     "name": "stdout",
     "output_type": "stream",
     "text": [
      "Fitting model with Dropout\n",
      "Fitting 3 folds for each of 80 candidates, totalling 240 fits\n"
     ]
    },
    {
     "name": "stderr",
     "output_type": "stream",
     "text": [
      "[Parallel(n_jobs=-1)]: Using backend LokyBackend with 8 concurrent workers.\n",
      "[Parallel(n_jobs=-1)]: Done   2 tasks      | elapsed:   14.8s\n",
      "[Parallel(n_jobs=-1)]: Done   9 tasks      | elapsed:   30.7s\n",
      "[Parallel(n_jobs=-1)]: Done  16 tasks      | elapsed:   41.3s\n",
      "[Parallel(n_jobs=-1)]: Done  25 tasks      | elapsed:  1.1min\n",
      "[Parallel(n_jobs=-1)]: Done  34 tasks      | elapsed:  1.4min\n",
      "[Parallel(n_jobs=-1)]: Done  45 tasks      | elapsed:  2.0min\n",
      "[Parallel(n_jobs=-1)]: Done  56 tasks      | elapsed:  2.5min\n",
      "[Parallel(n_jobs=-1)]: Done  69 tasks      | elapsed:  3.1min\n",
      "[Parallel(n_jobs=-1)]: Done  82 tasks      | elapsed:  3.7min\n",
      "[Parallel(n_jobs=-1)]: Done  97 tasks      | elapsed:  4.6min\n",
      "[Parallel(n_jobs=-1)]: Done 112 tasks      | elapsed:  5.4min\n",
      "[Parallel(n_jobs=-1)]: Done 129 tasks      | elapsed:  6.3min\n",
      "[Parallel(n_jobs=-1)]: Done 146 tasks      | elapsed:  7.3min\n",
      "[Parallel(n_jobs=-1)]: Done 165 tasks      | elapsed:  8.6min\n",
      "[Parallel(n_jobs=-1)]: Done 184 tasks      | elapsed:  9.8min\n",
      "[Parallel(n_jobs=-1)]: Done 205 tasks      | elapsed: 11.3min\n"
     ]
    },
    {
     "name": "stdout",
     "output_type": "stream",
     "text": [
      "WARNING:tensorflow:From /usr/local/lib/python3.6/dist-packages/keras/backend/tensorflow_backend.py:3733: calling dropout (from tensorflow.python.ops.nn_ops) with keep_prob is deprecated and will be removed in a future version.\n",
      "Instructions for updating:\n",
      "Please use `rate` instead of `keep_prob`. Rate should be set to `rate = 1 - keep_prob`.\n"
     ]
    },
    {
     "name": "stderr",
     "output_type": "stream",
     "text": [
      "[Parallel(n_jobs=-1)]: Done 240 out of 240 | elapsed: 14.0min finished\n"
     ]
    },
    {
     "name": "stdout",
     "output_type": "stream",
     "text": [
      "Fitting model with AlphaDropout\n",
      "Fitting 3 folds for each of 80 candidates, totalling 240 fits\n"
     ]
    },
    {
     "name": "stderr",
     "output_type": "stream",
     "text": [
      "[Parallel(n_jobs=-1)]: Using backend LokyBackend with 8 concurrent workers.\n",
      "[Parallel(n_jobs=-1)]: Done   2 tasks      | elapsed:   35.5s\n",
      "[Parallel(n_jobs=-1)]: Done   9 tasks      | elapsed:  1.2min\n",
      "[Parallel(n_jobs=-1)]: Done  16 tasks      | elapsed:  1.4min\n",
      "[Parallel(n_jobs=-1)]: Done  25 tasks      | elapsed:  2.4min\n",
      "[Parallel(n_jobs=-1)]: Done  34 tasks      | elapsed:  3.2min\n",
      "[Parallel(n_jobs=-1)]: Done  45 tasks      | elapsed:  4.1min\n",
      "[Parallel(n_jobs=-1)]: Done  56 tasks      | elapsed:  5.0min\n",
      "[Parallel(n_jobs=-1)]: Done  69 tasks      | elapsed:  6.3min\n",
      "[Parallel(n_jobs=-1)]: Done  82 tasks      | elapsed:  7.6min\n",
      "[Parallel(n_jobs=-1)]: Done  97 tasks      | elapsed:  9.1min\n",
      "[Parallel(n_jobs=-1)]: Done 112 tasks      | elapsed: 10.7min\n",
      "[Parallel(n_jobs=-1)]: Done 129 tasks      | elapsed: 12.4min\n",
      "[Parallel(n_jobs=-1)]: Done 146 tasks      | elapsed: 14.2min\n",
      "[Parallel(n_jobs=-1)]: Done 165 tasks      | elapsed: 16.4min\n",
      "[Parallel(n_jobs=-1)]: Done 184 tasks      | elapsed: 18.4min\n",
      "[Parallel(n_jobs=-1)]: Done 205 tasks      | elapsed: 21.2min\n",
      "[Parallel(n_jobs=-1)]: Done 240 out of 240 | elapsed: 26.4min finished\n"
     ]
    },
    {
     "data": {
      "text/plain": [
       "GridSearchCV(cv=3, error_score='raise-deprecating',\n",
       "             estimator=Pipeline(memory=None,\n",
       "                                steps=[('tune_layers_and_activation',\n",
       "                                        <keras.wrappers.scikit_learn.KerasClassifier object at 0x7f83fcebd710>)],\n",
       "                                verbose=False),\n",
       "             iid='warn', n_jobs=-1,\n",
       "             param_grid={'tune_layers_and_activation__activation_func': ['sigmoid',\n",
       "                                                                         'relu',\n",
       "                                                                         'tanh',\n",
       "                                                                         'selu'],\n",
       "                         'tune_layers_and_activation__callba...\n",
       "                                                                   [<keras.callbacks.LearningRateScheduler object at 0x7f83f695d390>,\n",
       "                                                                    <keras.callbacks.EarlyStopping object at 0x7f83f695d3c8>]],\n",
       "                         'tune_layers_and_activation__dropout': ['AlphaDropout'],\n",
       "                         'tune_layers_and_activation__epochs': [100],\n",
       "                         'tune_layers_and_activation__n_hidden_layers': [1, 4,\n",
       "                                                                         3, 5,\n",
       "                                                                         10]},\n",
       "             pre_dispatch='2*n_jobs', refit=True, return_train_score=False,\n",
       "             scoring='accuracy', verbose=10)"
      ]
     },
     "execution_count": 26,
     "metadata": {},
     "output_type": "execute_result"
    }
   ],
   "source": [
    "cv_pipeline_standard = GridSearchCV(estimator=nn_pipeline, param_grid=dict_params_standard, \n",
    "                                    scoring='accuracy', cv=3, verbose=10, n_jobs=-1)\n",
    "\n",
    "cv_pipeline_dropout = GridSearchCV(estimator=nn_pipeline, param_grid=dict_params_dropout, \n",
    "                                   scoring='accuracy', cv=3, verbose=10, n_jobs=-1)\n",
    "\n",
    "cv_pipeline_alphadropout = GridSearchCV(estimator=nn_pipeline, param_grid=dict_params_alphadropout, \n",
    "                                        scoring='accuracy', cv=3, verbose=10, n_jobs=-1)\n",
    "\n",
    "print('Fitting model without Dropout')\n",
    "cv_pipeline_standard.fit(df_cv_X, df_cv_Y)\n",
    "print('Fitting model with Dropout')\n",
    "cv_pipeline_dropout.fit(df_cv_X, df_cv_Y)\n",
    "print('Fitting model with AlphaDropout')\n",
    "cv_pipeline_alphadropout.fit(df_cv_X, df_cv_Y)"
   ]
  },
  {
   "cell_type": "markdown",
   "metadata": {},
   "source": [
    "After tunning the parameters, we have just saved all variables from our session. Now, it's time to check out the optimal neural network we just got."
   ]
  },
  {
   "cell_type": "code",
   "execution_count": 215,
   "metadata": {},
   "outputs": [
    {
     "name": "stdout",
     "output_type": "stream",
     "text": [
      "----\n",
      "No Dropout- Results:\n",
      "----\n",
      "Paramaters:\n",
      "Act. Fn: tanh\n",
      "Model: No Dropout\n",
      "N. Hidden Layers: 3\n",
      "Optimal Exp. Decay:\n",
      "Epoch0 = 900.000000\n",
      "Best Score:\n",
      "83%\n",
      "\n",
      "\n",
      "----\n",
      "Std Dropout- Results:\n",
      "----\n",
      "Paramaters:\n",
      "Act. Fn: relu\n",
      "Model: Dropout\n",
      "N. Hidden Layers: 1\n",
      "Optimal Exp. Decay:\n",
      "Epoch0 = 1100.000000\n",
      "Best Score:\n",
      "83%\n",
      "\n",
      "\n",
      "----\n",
      "AlphaDropout- Results:\n",
      "----\n",
      "Paramaters:\n",
      "Act. Fn: selu\n",
      "Model: AlphaDropout\n",
      "N. Hidden Layers: 1\n",
      "Optimal Exp. Decay:\n",
      "Epoch0 = 1000.000000\n",
      "Best Score:\n",
      "81%\n",
      "\n",
      "\n"
     ]
    }
   ],
   "source": [
    "for i, cv_pipeline in enumerate([cv_pipeline_standard, cv_pipeline_dropout, cv_pipeline_alphadropout]):\n",
    "    list_models = ['No Dropout', 'Std Dropout', 'AlphaDropout']\n",
    "    \n",
    "    print('----')\n",
    "    print(list_models[i] + '- Results:')\n",
    "    print('----')\n",
    "    print('Paramaters:')\n",
    "    dict_params = cv_pipeline.best_estimator_.named_steps['tune_layers_and_activation'].get_params()\n",
    "    print('Act. Fn: ' + dict_params['activation_func'])\n",
    "    print('Model: ' + (dict_params['dropout'] if dict_params['dropout'] is not None else 'No Dropout'))\n",
    "    print('N. Hidden Layers: ' + str(dict_params['n_hidden_layers']))\n",
    "    \n",
    "    print('Optimal Exp. Decay:')\n",
    "    dict_params = cv_pipeline.best_estimator_.named_steps['tune_layers_and_activation'].get_params()\n",
    "    opt_scheduler = dict_params['callbacks'][0]\n",
    "    opt_scheduler_fn = opt_scheduler.__dict__['schedule']\n",
    "    opt_epoch0 = 1 / (math.log10(opt_scheduler_fn(0, 1)) - math.log10(opt_scheduler_fn(1, 1)))\n",
    "    print(f'Epoch0 = %f' % opt_epoch0)\n",
    "    \n",
    "    print('Best Score:')\n",
    "    print('{0:.0%}'.format(cv_pipeline.best_score_))\n",
    "    print('\\n')"
   ]
  },
  {
   "cell_type": "markdown",
   "metadata": {},
   "source": [
    "Seems that the Standard Dropout model is the best one: it offers similar results of the Neural Network without Dropping Out but with a difference: it uses a smaller number of Hidden Layers and has a bigger exponencial decay. So, the Dropping Out Neural Network is going to be chosen since it's simpler."
   ]
  },
  {
   "cell_type": "markdown",
   "metadata": {},
   "source": [
    "Let's compare the result along each fold for each one of the models in a BoxPlot:"
   ]
  },
  {
   "cell_type": "code",
   "execution_count": 160,
   "metadata": {},
   "outputs": [
    {
     "name": "stderr",
     "output_type": "stream",
     "text": [
      "/home/x/.local/lib/python3.6/site-packages/ipykernel_launcher.py:40: FutureWarning: Sorting because non-concatenation axis is not aligned. A future version\n",
      "of pandas will change to not sort by default.\n",
      "\n",
      "To accept the future behavior, pass 'sort=False'.\n",
      "\n",
      "To retain the current behavior and silence the warning, pass 'sort=True'.\n",
      "\n"
     ]
    },
    {
     "data": {
      "text/html": [
       "<div>\n",
       "<style scoped>\n",
       "    .dataframe tbody tr th:only-of-type {\n",
       "        vertical-align: middle;\n",
       "    }\n",
       "\n",
       "    .dataframe tbody tr th {\n",
       "        vertical-align: top;\n",
       "    }\n",
       "\n",
       "    .dataframe thead th {\n",
       "        text-align: right;\n",
       "    }\n",
       "</style>\n",
       "<table border=\"1\" class=\"dataframe\">\n",
       "  <thead>\n",
       "    <tr style=\"text-align: right;\">\n",
       "      <th></th>\n",
       "      <th>Model</th>\n",
       "      <th>OPT__activation_func</th>\n",
       "      <th>OPT__callbacks</th>\n",
       "      <th>OPT__dropout</th>\n",
       "      <th>OPT__epochs</th>\n",
       "      <th>OPT__n_hidden_layers</th>\n",
       "      <th>Score</th>\n",
       "      <th>Split</th>\n",
       "      <th>activation_func</th>\n",
       "      <th>callbacks</th>\n",
       "      <th>dropout</th>\n",
       "      <th>epochs</th>\n",
       "      <th>n_hidden_layers</th>\n",
       "    </tr>\n",
       "  </thead>\n",
       "  <tbody>\n",
       "    <tr>\n",
       "      <td>0</td>\n",
       "      <td>No Dropout</td>\n",
       "      <td>tanh</td>\n",
       "      <td>[&lt;keras.callbacks.LearningRateScheduler object...</td>\n",
       "      <td>None</td>\n",
       "      <td>100.0</td>\n",
       "      <td>3.0</td>\n",
       "      <td>0.842697</td>\n",
       "      <td>2.0</td>\n",
       "      <td>sigmoid</td>\n",
       "      <td>[&lt;keras.callbacks.LearningRateScheduler object...</td>\n",
       "      <td>None</td>\n",
       "      <td>100.0</td>\n",
       "      <td>1.0</td>\n",
       "    </tr>\n",
       "    <tr>\n",
       "      <td>1</td>\n",
       "      <td>No Dropout</td>\n",
       "      <td>tanh</td>\n",
       "      <td>[&lt;keras.callbacks.LearningRateScheduler object...</td>\n",
       "      <td>None</td>\n",
       "      <td>100.0</td>\n",
       "      <td>3.0</td>\n",
       "      <td>0.838951</td>\n",
       "      <td>2.0</td>\n",
       "      <td>sigmoid</td>\n",
       "      <td>[&lt;keras.callbacks.LearningRateScheduler object...</td>\n",
       "      <td>None</td>\n",
       "      <td>100.0</td>\n",
       "      <td>4.0</td>\n",
       "    </tr>\n",
       "    <tr>\n",
       "      <td>2</td>\n",
       "      <td>No Dropout</td>\n",
       "      <td>tanh</td>\n",
       "      <td>[&lt;keras.callbacks.LearningRateScheduler object...</td>\n",
       "      <td>None</td>\n",
       "      <td>100.0</td>\n",
       "      <td>3.0</td>\n",
       "      <td>0.842697</td>\n",
       "      <td>2.0</td>\n",
       "      <td>sigmoid</td>\n",
       "      <td>[&lt;keras.callbacks.LearningRateScheduler object...</td>\n",
       "      <td>None</td>\n",
       "      <td>100.0</td>\n",
       "      <td>3.0</td>\n",
       "    </tr>\n",
       "    <tr>\n",
       "      <td>3</td>\n",
       "      <td>No Dropout</td>\n",
       "      <td>tanh</td>\n",
       "      <td>[&lt;keras.callbacks.LearningRateScheduler object...</td>\n",
       "      <td>None</td>\n",
       "      <td>100.0</td>\n",
       "      <td>3.0</td>\n",
       "      <td>0.846442</td>\n",
       "      <td>2.0</td>\n",
       "      <td>sigmoid</td>\n",
       "      <td>[&lt;keras.callbacks.LearningRateScheduler object...</td>\n",
       "      <td>None</td>\n",
       "      <td>100.0</td>\n",
       "      <td>5.0</td>\n",
       "    </tr>\n",
       "    <tr>\n",
       "      <td>4</td>\n",
       "      <td>No Dropout</td>\n",
       "      <td>tanh</td>\n",
       "      <td>[&lt;keras.callbacks.LearningRateScheduler object...</td>\n",
       "      <td>None</td>\n",
       "      <td>100.0</td>\n",
       "      <td>3.0</td>\n",
       "      <td>0.647940</td>\n",
       "      <td>2.0</td>\n",
       "      <td>sigmoid</td>\n",
       "      <td>[&lt;keras.callbacks.LearningRateScheduler object...</td>\n",
       "      <td>None</td>\n",
       "      <td>100.0</td>\n",
       "      <td>10.0</td>\n",
       "    </tr>\n",
       "  </tbody>\n",
       "</table>\n",
       "</div>"
      ],
      "text/plain": [
       "        Model OPT__activation_func  \\\n",
       "0  No Dropout                 tanh   \n",
       "1  No Dropout                 tanh   \n",
       "2  No Dropout                 tanh   \n",
       "3  No Dropout                 tanh   \n",
       "4  No Dropout                 tanh   \n",
       "\n",
       "                                      OPT__callbacks OPT__dropout  \\\n",
       "0  [<keras.callbacks.LearningRateScheduler object...         None   \n",
       "1  [<keras.callbacks.LearningRateScheduler object...         None   \n",
       "2  [<keras.callbacks.LearningRateScheduler object...         None   \n",
       "3  [<keras.callbacks.LearningRateScheduler object...         None   \n",
       "4  [<keras.callbacks.LearningRateScheduler object...         None   \n",
       "\n",
       "   OPT__epochs  OPT__n_hidden_layers     Score  Split activation_func  \\\n",
       "0        100.0                   3.0  0.842697    2.0         sigmoid   \n",
       "1        100.0                   3.0  0.838951    2.0         sigmoid   \n",
       "2        100.0                   3.0  0.842697    2.0         sigmoid   \n",
       "3        100.0                   3.0  0.846442    2.0         sigmoid   \n",
       "4        100.0                   3.0  0.647940    2.0         sigmoid   \n",
       "\n",
       "                                           callbacks dropout  epochs  \\\n",
       "0  [<keras.callbacks.LearningRateScheduler object...    None   100.0   \n",
       "1  [<keras.callbacks.LearningRateScheduler object...    None   100.0   \n",
       "2  [<keras.callbacks.LearningRateScheduler object...    None   100.0   \n",
       "3  [<keras.callbacks.LearningRateScheduler object...    None   100.0   \n",
       "4  [<keras.callbacks.LearningRateScheduler object...    None   100.0   \n",
       "\n",
       "   n_hidden_layers  \n",
       "0              1.0  \n",
       "1              4.0  \n",
       "2              3.0  \n",
       "3              5.0  \n",
       "4             10.0  "
      ]
     },
     "execution_count": 160,
     "metadata": {},
     "output_type": "execute_result"
    }
   ],
   "source": [
    "cv_pipeline_standard.cv_results_['split0_test_score']\n",
    "\n",
    "def get_cv_compared_results(cv_obj_list, cv_obj_names):\n",
    "    \n",
    "    obj_cv0 = cv_obj_list[0]\n",
    "    n_splits = obj_cv0.n_splits_\n",
    "    param_list = obj_cv0.param_grid.keys()\n",
    "    dict_df_cv = dict()\n",
    "    \n",
    "    for param in param_list:\n",
    "        dict_df_cv[param.split('__')[1]] = []\n",
    "        dict_df_cv['OPT__' + param.split('__')[1]] = []\n",
    "        \n",
    "    dict_df_cv['Score'] = []\n",
    "    dict_df_cv['Split'] = []\n",
    "    dict_df_cv['Model'] = []\n",
    "    \n",
    "    df_compared_results = pd.DataFrame(dict_df_cv)\n",
    "    for idx, obj_cv in enumerate(cv_obj_list):\n",
    "        \n",
    "        obj_name = cv_obj_names[idx]\n",
    "        opt_dict = obj_cv.best_estimator_.named_steps['tune_layers_and_activation'].get_params()\n",
    "        \n",
    "        for i, param in enumerate(obj_cv.cv_results_['params']):\n",
    "            for j in range(0, n_splits):\n",
    "                \n",
    "                dict_new_row = dict()\n",
    "                    \n",
    "                dict_new_row['Score'] = [obj_cv.cv_results_['split' + str(j) + '_test_score'][i]]\n",
    "                dict_new_row['Split'] = [j]\n",
    "                dict_new_row['Model'] = [obj_name]\n",
    "                \n",
    "                for param_id, param_val in param.items():\n",
    "                    \n",
    "                    param_name = param_id.split('__')[1]\n",
    "                    \n",
    "                    dict_new_row[param_name] = [param_val]\n",
    "                    dict_new_row['OPT__' + param_name] = [opt_dict[param_name]]\n",
    "                    \n",
    "            df_compared_results = pd.concat([df_compared_results, pd.DataFrame(dict_new_row)], axis=0, ignore_index=True)\n",
    "\n",
    "    return df_compared_results\n",
    "        \n",
    "    \n",
    "cv_obj_list = [cv_pipeline_standard, cv_pipeline_dropout, cv_pipeline_alphadropout]\n",
    "cv_names_list = ['No Dropout', 'Simple Dropout', 'AlphaDropout']\n",
    "\n",
    "df_compared_results = get_cv_compared_results(cv_obj_list, cv_names_list)\n",
    "df_compared_results.head()"
   ]
  },
  {
   "cell_type": "code",
   "execution_count": 161,
   "metadata": {},
   "outputs": [
    {
     "data": {
      "text/html": [
       "<div>\n",
       "<style scoped>\n",
       "    .dataframe tbody tr th:only-of-type {\n",
       "        vertical-align: middle;\n",
       "    }\n",
       "\n",
       "    .dataframe tbody tr th {\n",
       "        vertical-align: top;\n",
       "    }\n",
       "\n",
       "    .dataframe thead th {\n",
       "        text-align: right;\n",
       "    }\n",
       "</style>\n",
       "<table border=\"1\" class=\"dataframe\">\n",
       "  <thead>\n",
       "    <tr style=\"text-align: right;\">\n",
       "      <th></th>\n",
       "      <th>Model</th>\n",
       "      <th>OPT__activation_func</th>\n",
       "      <th>OPT__callbacks</th>\n",
       "      <th>OPT__dropout</th>\n",
       "      <th>OPT__epochs</th>\n",
       "      <th>OPT__n_hidden_layers</th>\n",
       "      <th>Score</th>\n",
       "      <th>Split</th>\n",
       "      <th>activation_func</th>\n",
       "      <th>callbacks</th>\n",
       "      <th>dropout</th>\n",
       "      <th>epochs</th>\n",
       "      <th>n_hidden_layers</th>\n",
       "    </tr>\n",
       "  </thead>\n",
       "  <tbody>\n",
       "    <tr>\n",
       "      <td>40</td>\n",
       "      <td>No Dropout</td>\n",
       "      <td>tanh</td>\n",
       "      <td>[&lt;keras.callbacks.LearningRateScheduler object...</td>\n",
       "      <td>None</td>\n",
       "      <td>100.0</td>\n",
       "      <td>3.0</td>\n",
       "      <td>0.835206</td>\n",
       "      <td>2.0</td>\n",
       "      <td>tanh</td>\n",
       "      <td>[&lt;keras.callbacks.LearningRateScheduler object...</td>\n",
       "      <td>None</td>\n",
       "      <td>100.0</td>\n",
       "      <td>1.0</td>\n",
       "    </tr>\n",
       "    <tr>\n",
       "      <td>41</td>\n",
       "      <td>No Dropout</td>\n",
       "      <td>tanh</td>\n",
       "      <td>[&lt;keras.callbacks.LearningRateScheduler object...</td>\n",
       "      <td>None</td>\n",
       "      <td>100.0</td>\n",
       "      <td>3.0</td>\n",
       "      <td>0.827715</td>\n",
       "      <td>2.0</td>\n",
       "      <td>tanh</td>\n",
       "      <td>[&lt;keras.callbacks.LearningRateScheduler object...</td>\n",
       "      <td>None</td>\n",
       "      <td>100.0</td>\n",
       "      <td>4.0</td>\n",
       "    </tr>\n",
       "    <tr>\n",
       "      <td>42</td>\n",
       "      <td>No Dropout</td>\n",
       "      <td>tanh</td>\n",
       "      <td>[&lt;keras.callbacks.LearningRateScheduler object...</td>\n",
       "      <td>None</td>\n",
       "      <td>100.0</td>\n",
       "      <td>3.0</td>\n",
       "      <td>0.850187</td>\n",
       "      <td>2.0</td>\n",
       "      <td>tanh</td>\n",
       "      <td>[&lt;keras.callbacks.LearningRateScheduler object...</td>\n",
       "      <td>None</td>\n",
       "      <td>100.0</td>\n",
       "      <td>3.0</td>\n",
       "    </tr>\n",
       "    <tr>\n",
       "      <td>43</td>\n",
       "      <td>No Dropout</td>\n",
       "      <td>tanh</td>\n",
       "      <td>[&lt;keras.callbacks.LearningRateScheduler object...</td>\n",
       "      <td>None</td>\n",
       "      <td>100.0</td>\n",
       "      <td>3.0</td>\n",
       "      <td>0.838951</td>\n",
       "      <td>2.0</td>\n",
       "      <td>tanh</td>\n",
       "      <td>[&lt;keras.callbacks.LearningRateScheduler object...</td>\n",
       "      <td>None</td>\n",
       "      <td>100.0</td>\n",
       "      <td>5.0</td>\n",
       "    </tr>\n",
       "    <tr>\n",
       "      <td>44</td>\n",
       "      <td>No Dropout</td>\n",
       "      <td>tanh</td>\n",
       "      <td>[&lt;keras.callbacks.LearningRateScheduler object...</td>\n",
       "      <td>None</td>\n",
       "      <td>100.0</td>\n",
       "      <td>3.0</td>\n",
       "      <td>0.812734</td>\n",
       "      <td>2.0</td>\n",
       "      <td>tanh</td>\n",
       "      <td>[&lt;keras.callbacks.LearningRateScheduler object...</td>\n",
       "      <td>None</td>\n",
       "      <td>100.0</td>\n",
       "      <td>10.0</td>\n",
       "    </tr>\n",
       "  </tbody>\n",
       "</table>\n",
       "</div>"
      ],
      "text/plain": [
       "         Model OPT__activation_func  \\\n",
       "40  No Dropout                 tanh   \n",
       "41  No Dropout                 tanh   \n",
       "42  No Dropout                 tanh   \n",
       "43  No Dropout                 tanh   \n",
       "44  No Dropout                 tanh   \n",
       "\n",
       "                                       OPT__callbacks OPT__dropout  \\\n",
       "40  [<keras.callbacks.LearningRateScheduler object...         None   \n",
       "41  [<keras.callbacks.LearningRateScheduler object...         None   \n",
       "42  [<keras.callbacks.LearningRateScheduler object...         None   \n",
       "43  [<keras.callbacks.LearningRateScheduler object...         None   \n",
       "44  [<keras.callbacks.LearningRateScheduler object...         None   \n",
       "\n",
       "    OPT__epochs  OPT__n_hidden_layers     Score  Split activation_func  \\\n",
       "40        100.0                   3.0  0.835206    2.0            tanh   \n",
       "41        100.0                   3.0  0.827715    2.0            tanh   \n",
       "42        100.0                   3.0  0.850187    2.0            tanh   \n",
       "43        100.0                   3.0  0.838951    2.0            tanh   \n",
       "44        100.0                   3.0  0.812734    2.0            tanh   \n",
       "\n",
       "                                            callbacks dropout  epochs  \\\n",
       "40  [<keras.callbacks.LearningRateScheduler object...    None   100.0   \n",
       "41  [<keras.callbacks.LearningRateScheduler object...    None   100.0   \n",
       "42  [<keras.callbacks.LearningRateScheduler object...    None   100.0   \n",
       "43  [<keras.callbacks.LearningRateScheduler object...    None   100.0   \n",
       "44  [<keras.callbacks.LearningRateScheduler object...    None   100.0   \n",
       "\n",
       "    n_hidden_layers  \n",
       "40              1.0  \n",
       "41              4.0  \n",
       "42              3.0  \n",
       "43              5.0  \n",
       "44             10.0  "
      ]
     },
     "execution_count": 161,
     "metadata": {},
     "output_type": "execute_result"
    }
   ],
   "source": [
    "act_fn_used = df_compared_results['activation_func'] == df_compared_results['OPT__activation_func']\n",
    "df_compared_results_fn_filtered = df_compared_results.loc[act_fn_used, :]\n",
    "df_compared_results_fn_filtered.head()"
   ]
  },
  {
   "cell_type": "code",
   "execution_count": 155,
   "metadata": {},
   "outputs": [
    {
     "data": {
      "text/plain": [
       "Model                    object\n",
       "OPT__activation_func     object\n",
       "OPT__callbacks           object\n",
       "OPT__dropout             object\n",
       "OPT__epochs             float64\n",
       "OPT__n_hidden_layers    float64\n",
       "Score                   float64\n",
       "Split                   float64\n",
       "activation_func          object\n",
       "callbacks                object\n",
       "dropout                  object\n",
       "epochs                  float64\n",
       "n_hidden_layers         float64\n",
       "dtype: object"
      ]
     },
     "execution_count": 155,
     "metadata": {},
     "output_type": "execute_result"
    }
   ],
   "source": [
    "df_compared_results_fn_filtered.dtypes"
   ]
  },
  {
   "cell_type": "code",
   "execution_count": 174,
   "metadata": {},
   "outputs": [
    {
     "name": "stderr",
     "output_type": "stream",
     "text": [
      "/home/x/.local/lib/python3.6/site-packages/ipykernel_launcher.py:6: SettingWithCopyWarning: \n",
      "A value is trying to be set on a copy of a slice from a DataFrame.\n",
      "Try using .loc[row_indexer,col_indexer] = value instead\n",
      "\n",
      "See the caveats in the documentation: http://pandas.pydata.org/pandas-docs/stable/user_guide/indexing.html#returning-a-view-versus-a-copy\n",
      "  \n"
     ]
    },
    {
     "data": {
      "text/plain": [
       "<matplotlib.axes._subplots.AxesSubplot at 0x7f836dcbff98>"
      ]
     },
     "execution_count": 174,
     "metadata": {},
     "output_type": "execute_result"
    },
    {
     "data": {
      "image/png": "[encoded data removed]",
      "text/plain": [
       "<Figure size 720x720 with 1 Axes>"
      ]
     },
     "metadata": {},
     "output_type": "display_data"
    }
   ],
   "source": [
    "mpl.rcParams['figure.figsize'] = [10, 10]\n",
    "sns.set_style(\"darkgrid\")\n",
    "df_compared_results_fn_filtered['n_hidden_layers_jitter'] = df_compared_results_fn_filtered['n_hidden_layers'].apply(lambda X: X + 0.1 * np.random.normal())\n",
    "sns.scatterplot(data=df_compared_results_fn_filtered, x='n_hidden_layers_jitter', y='Score', hue='Model',  linewidth=1, s=1000, alpha=0.4, edgecolor='k')"
   ]
  },
  {
   "cell_type": "markdown",
   "metadata": {},
   "source": [
    "# 3.B. Prepare a TensorBoard and inspect the Neural Networks in a Separated Validation Set\n",
    "The Cross-Validation procedure executes the hyper-parameter tunning over different splits of the same set. For that reason, to inspect the generalization power of our models we are going to look out of that set and inspect the Learning Curves of the $3$ optimal models (without Dropping Out, with DropOut and with AlphaDropout) using the TensorBoard tool. The model fitting will be executed over all the Cross Validation data to inspect the results when we increase the number of samples for each Neural Network."
   ]
  },
  {
   "cell_type": "code",
   "execution_count": 227,
   "metadata": {},
   "outputs": [],
   "source": [
    "for i, cv_obj in enumerate([cv_pipeline_standard, cv_pipeline_dropout, cv_pipeline_alphadropout]):\n",
    "    tensor_board_callback = [TensorBoard('./logs/Model-' + str(i + 1), histogram_freq=0, write_graph=False)]\n",
    "    cbcks_list = cv_obj.best_estimator_.steps[0][1].__dict__['sk_params']['callbacks'] + tensor_board_callback\n",
    "    cv_obj.best_estimator_.fit(df_cv_X, df_cv_Y, \n",
    "                               tune_layers_and_activation__callbacks=cbcks_list,\n",
    "                               tune_layers_and_activation__validation_data=(df_test_X, df_test_Y))\n",
    "    \n",
    "    cv_obj.best_estimator_.fit(df_cv_and_test_X, df_cv_and_test_Y, \n",
    "                               tune_layers_and_activation__callbacks=cv_obj.best_estimator_.steps[0][1].__dict__['sk_params']['callbacks'])\n",
    "\n",
    "    df_submission = pd.read_csv(data_dir + '/test.csv')\n",
    "    df_submission['Survived'] = cv_obj.best_estimator_.predict(df_ans)\n",
    "    df_submission['Survived'] = df_submission['Survived'].apply(int)\n",
    "    df_submission = df_submission.loc[:, ['PassengerId', 'Survived']]\n",
    "    df_submission.to_csv('Model-' + str(i + 1) + '-submission.csv', index=False)"
   ]
  }
 ],
 "metadata": {
  "kernelspec": {
   "display_name": "Python 3",
   "language": "python",
   "name": "python3"
  },
  "language_info": {
   "codemirror_mode": {
    "name": "ipython",
    "version": 3
   },
   "file_extension": ".py",
   "mimetype": "text/x-python",
   "name": "python",
   "nbconvert_exporter": "python",
   "pygments_lexer": "ipython3",
   "version": "3.6.8"
  }
 },
 "nbformat": 4,
 "nbformat_minor": 4
}
